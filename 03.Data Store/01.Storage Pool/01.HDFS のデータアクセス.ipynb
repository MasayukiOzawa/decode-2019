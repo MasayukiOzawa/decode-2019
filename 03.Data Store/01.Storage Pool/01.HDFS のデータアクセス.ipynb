{
    "metadata": {
        "kernelspec": {
            "name": "SQL",
            "display_name": "SQL",
            "language": "sql"
        },
        "language_info": {
            "name": "sql",
            "version": ""
        }
    },
    "nbformat_minor": 2,
    "nbformat": 4,
    "cells": [
        {
            "cell_type": "markdown",
            "source": "# HDFS のデータ操作\r\nBDC は、ストレージプールのレイヤーに HDFS のデータストアを標準で持っている。  \r\nこの HDFS 上のデータについては、T-SQL を使用して参照することができる。",
            "metadata": {}
        },
        {
            "cell_type": "markdown",
            "source": "## 1. Big Data Cluster の HDFS のデータにアクセス",
            "metadata": {}
        },
        {
            "cell_type": "code",
            "source": "USE [StoragePool];\r\n\r\n-- オブジェクトの初期化\r\nIF EXISTS (SELECT * FROM sys.external_tables WHERE name = 'StoragePoolTBL')\r\nBEGIN\r\n\tDROP EXTERNAL TABLE StoragePoolTBL\r\nEND;\r\nIF EXISTS (SELECT * FROM sys.external_file_formats WHERE name = 'csv_file')\r\nBEGIN\r\n\tDROP EXTERNAL FILE FORMAT csv_file\r\nEND\r\nGO",
            "metadata": {},
            "outputs": [
                {
                    "output_type": "display_data",
                    "data": {
                        "text/html": "Commands completed successfully."
                    },
                    "metadata": {}
                },
                {
                    "output_type": "display_data",
                    "data": {
                        "text/html": "Total execution time: 00:00:00.0536094"
                    },
                    "metadata": {}
                }
            ],
            "execution_count": 6
        },
        {
            "cell_type": "markdown",
            "source": "**1. HDFS 上のファイルのデータフォーマットを指定**  \r\n外部データがどのようなフォーマットなのかを判断するための、ファイルフォーマットを作成",
            "metadata": {}
        },
        {
            "cell_type": "code",
            "source": "USE [StoragePool];\r\n\r\n-- CSV の外部データフォーマットを作成\r\nCREATE EXTERNAL FILE FORMAT csv_file\r\nWITH (\r\n    FORMAT_TYPE = DELIMITEDTEXT,\r\n    FORMAT_OPTIONS(\r\n        FIELD_TERMINATOR = ',',\r\n        STRING_DELIMITER = '\"',\r\n        FIRST_ROW = 2,\r\n        USE_TYPE_DEFAULT = TRUE)\r\n);",
            "metadata": {},
            "outputs": [
                {
                    "output_type": "display_data",
                    "data": {
                        "text/html": "Commands completed successfully."
                    },
                    "metadata": {}
                },
                {
                    "output_type": "display_data",
                    "data": {
                        "text/html": "Total execution time: 00:00:00.8107450"
                    },
                    "metadata": {}
                }
            ],
            "execution_count": 7
        },
        {
            "cell_type": "markdown",
            "source": "**2. 外部テーブルの作成**  \r\nHDFS のデータを参照するための外部テーブルの作成  \r\nBig Data Cluster 上の HDFS の指定したディレクトリ （今回は [/clickstream_Data]) をテーブルとして参照",
            "metadata": {}
        },
        {
            "cell_type": "code",
            "source": "USE [StoragePool];\r\n\r\n-- Storage Pool の HDFS の内容を外部テーブルとして作成\r\nCREATE EXTERNAL TABLE [StoragePoolTBL]\r\n(\r\n\twcs_click_date_sk BIGINT , \r\n\twcs_click_time_sk BIGINT , \r\n\twcs_sales_sk BIGINT , \r\n\twcs_item_sk BIGINT , \r\n\twcs_web_page_sk BIGINT , \r\n\twcs_user_sk BIGINT\r\n)\r\nWITH\r\n(\r\n    DATA_SOURCE = SqlStoragePool,\r\n\tLOCATION = '/clickstream_data',\r\n    FILE_FORMAT = csv_file\r\n);",
            "metadata": {},
            "outputs": [
                {
                    "output_type": "display_data",
                    "data": {
                        "text/html": "Commands completed successfully."
                    },
                    "metadata": {}
                },
                {
                    "output_type": "display_data",
                    "data": {
                        "text/html": "Total execution time: 00:00:00.4115197"
                    },
                    "metadata": {}
                }
            ],
            "execution_count": 8
        },
        {
            "cell_type": "markdown",
            "source": "![BDC HDFS Data](https://github.com/MasayukiOzawa/decode-2019-demo/raw/master/Images/03.Data%20Store/01.Storage%20Pool/BDC%20HDFS%20Data.png)",
            "metadata": {}
        },
        {
            "cell_type": "markdown",
            "source": "**3. HDFS 上のデータを参照**  \r\nHDFS のデータをテーブルとして参照  \r\n以降の操作はデータ仮想化と同様になる",
            "metadata": {}
        },
        {
            "cell_type": "code",
            "source": "USE [StoragePool];\r\n\r\n-- Storage Pool の HDFS の内容を検索\r\nSELECT COUNT(*) FROM [StoragePoolTBL]\r\nSELECT TOP 20 * FROM [StoragePoolTBL] WHERE wcs_click_time_sk > 5000",
            "metadata": {},
            "outputs": [
                {
                    "output_type": "display_data",
                    "data": {
                        "text/html": "(1 row affected)"
                    },
                    "metadata": {}
                },
                {
                    "output_type": "display_data",
                    "data": {
                        "text/html": "(20 rows affected)"
                    },
                    "metadata": {}
                },
                {
                    "output_type": "display_data",
                    "data": {
                        "text/html": "Total execution time: 00:00:04.4687193"
                    },
                    "metadata": {}
                },
                {
                    "output_type": "execute_result",
                    "metadata": {},
                    "execution_count": 9,
                    "data": {
                        "application/vnd.dataresource+json": {
                            "schema": {
                                "fields": [
                                    {
                                        "name": "(No column name)"
                                    }
                                ]
                            },
                            "data": [
                                {
                                    "0": "1497"
                                }
                            ]
                        },
                        "text/html": "<table><tr><th>(No column name)</th></tr><tr><td>1497</td></tr></table>"
                    }
                },
                {
                    "output_type": "execute_result",
                    "metadata": {},
                    "execution_count": 9,
                    "data": {
                        "application/vnd.dataresource+json": {
                            "schema": {
                                "fields": [
                                    {
                                        "name": "wcs_click_date_sk"
                                    },
                                    {
                                        "name": "wcs_click_time_sk"
                                    },
                                    {
                                        "name": "wcs_sales_sk"
                                    },
                                    {
                                        "name": "wcs_item_sk"
                                    },
                                    {
                                        "name": "wcs_web_page_sk"
                                    },
                                    {
                                        "name": "wcs_user_sk"
                                    }
                                ]
                            },
                            "data": [
                                {
                                    "0": "38569",
                                    "1": "85106",
                                    "2": "NULL",
                                    "3": "11130",
                                    "4": "18",
                                    "5": "NULL"
                                },
                                {
                                    "0": "38569",
                                    "1": "52655",
                                    "2": "NULL",
                                    "3": "3716",
                                    "4": "18",
                                    "5": "NULL"
                                },
                                {
                                    "0": "38569",
                                    "1": "70934",
                                    "2": "NULL",
                                    "3": "13243",
                                    "4": "18",
                                    "5": "NULL"
                                },
                                {
                                    "0": "38569",
                                    "1": "40166",
                                    "2": "NULL",
                                    "3": "5389",
                                    "4": "18",
                                    "5": "NULL"
                                },
                                {
                                    "0": "38570",
                                    "1": "73271",
                                    "2": "NULL",
                                    "3": "3331",
                                    "4": "18",
                                    "5": "NULL"
                                },
                                {
                                    "0": "38570",
                                    "1": "24651",
                                    "2": "NULL",
                                    "3": "10049",
                                    "4": "18",
                                    "5": "NULL"
                                },
                                {
                                    "0": "38570",
                                    "1": "23805",
                                    "2": "NULL",
                                    "3": "921",
                                    "4": "18",
                                    "5": "NULL"
                                },
                                {
                                    "0": "38570",
                                    "1": "66458",
                                    "2": "NULL",
                                    "3": "4407",
                                    "4": "18",
                                    "5": "NULL"
                                },
                                {
                                    "0": "38570",
                                    "1": "65912",
                                    "2": "NULL",
                                    "3": "11494",
                                    "4": "18",
                                    "5": "NULL"
                                },
                                {
                                    "0": "38570",
                                    "1": "80073",
                                    "2": "NULL",
                                    "3": "1833",
                                    "4": "18",
                                    "5": "NULL"
                                },
                                {
                                    "0": "38570",
                                    "1": "9522",
                                    "2": "NULL",
                                    "3": "17636",
                                    "4": "18",
                                    "5": "NULL"
                                },
                                {
                                    "0": "38570",
                                    "1": "22779",
                                    "2": "NULL",
                                    "3": "9063",
                                    "4": "18",
                                    "5": "NULL"
                                },
                                {
                                    "0": "38570",
                                    "1": "43276",
                                    "2": "NULL",
                                    "3": "8696",
                                    "4": "18",
                                    "5": "NULL"
                                },
                                {
                                    "0": "38570",
                                    "1": "18021",
                                    "2": "NULL",
                                    "3": "3231",
                                    "4": "18",
                                    "5": "NULL"
                                },
                                {
                                    "0": "38570",
                                    "1": "37963",
                                    "2": "NULL",
                                    "3": "17050",
                                    "4": "18",
                                    "5": "NULL"
                                },
                                {
                                    "0": "38570",
                                    "1": "49125",
                                    "2": "NULL",
                                    "3": "9044",
                                    "4": "18",
                                    "5": "NULL"
                                },
                                {
                                    "0": "38570",
                                    "1": "69824",
                                    "2": "NULL",
                                    "3": "3255",
                                    "4": "18",
                                    "5": "NULL"
                                },
                                {
                                    "0": "38570",
                                    "1": "10028",
                                    "2": "NULL",
                                    "3": "1355",
                                    "4": "18",
                                    "5": "NULL"
                                },
                                {
                                    "0": "38570",
                                    "1": "6749",
                                    "2": "NULL",
                                    "3": "16880",
                                    "4": "18",
                                    "5": "NULL"
                                },
                                {
                                    "0": "38570",
                                    "1": "11109",
                                    "2": "NULL",
                                    "3": "8200",
                                    "4": "18",
                                    "5": "NULL"
                                }
                            ]
                        },
                        "text/html": "<table><tr><th>wcs_click_date_sk</th><th>wcs_click_time_sk</th><th>wcs_sales_sk</th><th>wcs_item_sk</th><th>wcs_web_page_sk</th><th>wcs_user_sk</th></tr><tr><td>38569</td><td>85106</td><td>NULL</td><td>11130</td><td>18</td><td>NULL</td></tr><tr><td>38569</td><td>52655</td><td>NULL</td><td>3716</td><td>18</td><td>NULL</td></tr><tr><td>38569</td><td>70934</td><td>NULL</td><td>13243</td><td>18</td><td>NULL</td></tr><tr><td>38569</td><td>40166</td><td>NULL</td><td>5389</td><td>18</td><td>NULL</td></tr><tr><td>38570</td><td>73271</td><td>NULL</td><td>3331</td><td>18</td><td>NULL</td></tr><tr><td>38570</td><td>24651</td><td>NULL</td><td>10049</td><td>18</td><td>NULL</td></tr><tr><td>38570</td><td>23805</td><td>NULL</td><td>921</td><td>18</td><td>NULL</td></tr><tr><td>38570</td><td>66458</td><td>NULL</td><td>4407</td><td>18</td><td>NULL</td></tr><tr><td>38570</td><td>65912</td><td>NULL</td><td>11494</td><td>18</td><td>NULL</td></tr><tr><td>38570</td><td>80073</td><td>NULL</td><td>1833</td><td>18</td><td>NULL</td></tr><tr><td>38570</td><td>9522</td><td>NULL</td><td>17636</td><td>18</td><td>NULL</td></tr><tr><td>38570</td><td>22779</td><td>NULL</td><td>9063</td><td>18</td><td>NULL</td></tr><tr><td>38570</td><td>43276</td><td>NULL</td><td>8696</td><td>18</td><td>NULL</td></tr><tr><td>38570</td><td>18021</td><td>NULL</td><td>3231</td><td>18</td><td>NULL</td></tr><tr><td>38570</td><td>37963</td><td>NULL</td><td>17050</td><td>18</td><td>NULL</td></tr><tr><td>38570</td><td>49125</td><td>NULL</td><td>9044</td><td>18</td><td>NULL</td></tr><tr><td>38570</td><td>69824</td><td>NULL</td><td>3255</td><td>18</td><td>NULL</td></tr><tr><td>38570</td><td>10028</td><td>NULL</td><td>1355</td><td>18</td><td>NULL</td></tr><tr><td>38570</td><td>6749</td><td>NULL</td><td>16880</td><td>18</td><td>NULL</td></tr><tr><td>38570</td><td>11109</td><td>NULL</td><td>8200</td><td>18</td><td>NULL</td></tr></table>"
                    }
                }
            ],
            "execution_count": 9
        },
        {
            "cell_type": "markdown",
            "source": "![HDFS Data Query](https://github.com/MasayukiOzawa/decode-2019-demo/raw/master/Images/03.Data%20Store/01.Storage%20Pool/Storage%20Pool%20Data%20Query.png)",
            "metadata": {}
        }
    ]
}