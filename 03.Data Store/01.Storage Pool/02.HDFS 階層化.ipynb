{
    "metadata": {
        "kernelspec": {
            "name": "SQL",
            "display_name": "SQL",
            "language": "sql"
        },
        "language_info": {
            "name": "sql",
            "version": ""
        }
    },
    "nbformat_minor": 2,
    "nbformat": 4,
    "cells": [
        {
            "cell_type": "markdown",
            "source": "# HDFS 階層化\r\nBig Data Cluster の持つ HDFS 以外の分散ストレージをマウント  \r\n[Configure HDFS tiering on SQL Server big data clusters](https://docs.microsoft.com/en-us/sql/big-data-cluster/hdfs-tiering?view=sqlallproducts-allversions)\r\n>HDFS tiering for SQL Server 2019 big data clusters (preview). At this time, we support connecting to Azure Data Lake Storage Gen2, and Amazon S3.\r\n",
            "metadata": {}
        },
        {
            "cell_type": "markdown",
            "source": "## 1. BDC の準備\r\n\r\n**1. 資格情報用のファイル作成**\r\n- [Azure Data Lake Storage (ADLS) Gen2](https://docs.microsoft.com/ja-jp/sql/big-data-cluster/hdfs-tiering-mount-adlsgen2?view=sqlallproducts-allversions#credentials-for-mounting)\r\n- [AWS S3](https://docs.microsoft.com/ja-jp/sql/big-data-cluster/hdfs-tiering-mount-s3?view=sqlallproducts-allversions#access-keys)\r\n\r\n**2. BDC にログイン**\r\n```\r\nkubectl get svc mgmtproxy-svc-external -n mssql-cluster\r\nmssqlctl login -e $(\"https://{0}\" -f $ENV:MGMTPROXY_ENDPOINT) -u $ENV:MGMTPROXY_LOGIN -p $ENV:MGMTPROXY_LOGIN_PASSWORD\r\n```\r\n\r\n**3. HDFS に外部ストレージをマウント**\r\n```\r\n# ADL Gen2 のマウント\r\nmssqlctl storage mount create --remote-uri \"abfs://azureblob@$($ENV:ADLGen2_ACCOUNT).dfs.core.windows.net/\" --mount-path /mounts/azureblob --credential-file \"C:\\Users\\decodeadmin\\Desktop\\Demo\\00.Setup\\01.環境構築\\files.creds\"\r\n\r\n# パーミッションの調整\r\nkubectl exec -n mssql-cluster -it master-0 -c hadoop /bin/bash\r\nhdfs dfs -ls -r /mounts/azureblob\r\nhdfs dfs -chmod -R o+rx /mounts/azureblob\r\nexit\r\n\r\n# AWS S3 のマウント\r\nmssqlctl storage mount create --remote-uri \"s3a://$($ENV:S3_ACCOUNT)/\" --mount-path /mounts/aws --credential-file \"C:\\Users\\decodeadmin\\Desktop\\Demo\\00.Setup\\01.環境構築\\s3files.creds\"\r\n\r\n# ステータスの確認\r\nmssqlctl storage mount status\r\n\r\n# 削除\r\n# mssqlctl storage mount delete --mount-path /mounts/azureblob\r\n# mssqlctl storage mount delete --mount-path /mounts/aws\r\n```",
            "metadata": {}
        },
        {
            "cell_type": "markdown",
            "source": "![ADL Gen2](https://raw.githubusercontent.com/MasayukiOzawa/decode-2019-demo/master/Images/03.Data%20Store/01.Storage%20Pool/ADL%20Gen2.png)\r\n![AWS S3](https://github.com/MasayukiOzawa/decode-2019-demo/raw/master/Images/03.Data%20Store/01.Storage%20Pool/AWS%20S3.png)  \r\n![HDFS Mount](https://raw.githubusercontent.com/MasayukiOzawa/decode-2019-demo/master/Images/03.Data%20Store/01.Storage%20Pool/HDFS%20Mount.png)",
            "metadata": {}
        },
        {
            "cell_type": "markdown",
            "source": "## 2. 階層化したデータへのアクセス (ADL Gen2)",
            "metadata": {}
        },
        {
            "cell_type": "code",
            "source": "USE [StoragePool];\r\n\r\n-- オブジェクトの初期化\r\nIF EXISTS (SELECT * FROM sys.external_tables WHERE name = 'StoragePoolADLTBL')\r\nBEGIN\r\n\tDROP EXTERNAL TABLE [StoragePoolADLTBL]\r\nEND;\r\nGO",
            "metadata": {},
            "outputs": [
                {
                    "output_type": "display_data",
                    "data": {
                        "text/html": "Commands completed successfully."
                    },
                    "metadata": {}
                },
                {
                    "output_type": "display_data",
                    "data": {
                        "text/html": "Total execution time: 00:00:00.0224807"
                    },
                    "metadata": {}
                }
            ],
            "execution_count": 8
        },
        {
            "cell_type": "markdown",
            "source": "**1. 外部テーブルの作成**  \r\nテーブルの作成方法は、HDFS のデータアクセスと同様",
            "metadata": {}
        },
        {
            "cell_type": "code",
            "source": "USE [StoragePool];\r\n\r\n-- ADL Gen2 の内容を外部テーブルとして作成\r\nCREATE EXTERNAL TABLE [StoragePoolADLTBL]\r\n(\r\n\twcs_click_date_sk BIGINT , \r\n\twcs_click_time_sk BIGINT , \r\n\twcs_sales_sk BIGINT , \r\n\twcs_item_sk BIGINT , \r\n\twcs_web_page_sk BIGINT , \r\n\twcs_user_sk BIGINT\r\n)\r\nWITH\r\n(\r\n    DATA_SOURCE = SqlStoragePool,\r\n\tLOCATION = '/mounts/azureblob',\r\n    FILE_FORMAT = csv_file\r\n)\r\nGO",
            "metadata": {},
            "outputs": [
                {
                    "output_type": "display_data",
                    "data": {
                        "text/html": "Commands completed successfully."
                    },
                    "metadata": {}
                },
                {
                    "output_type": "display_data",
                    "data": {
                        "text/html": "Total execution time: 00:00:00.3402874"
                    },
                    "metadata": {}
                }
            ],
            "execution_count": 9
        },
        {
            "cell_type": "markdown",
            "source": "**2. ADL Gen2 のデータにアクセス**",
            "metadata": {}
        },
        {
            "cell_type": "code",
            "source": "USE [StoragePool];\r\n\r\nSELECT COUNT(*) FROM [StoragePoolADLTBL]\r\nSELECT TOP 25 * FROM [StoragePoolADLTBL]",
            "metadata": {},
            "outputs": [
                {
                    "output_type": "display_data",
                    "data": {
                        "text/html": "(1 row affected)"
                    },
                    "metadata": {}
                },
                {
                    "output_type": "display_data",
                    "data": {
                        "text/html": "(25 rows affected)"
                    },
                    "metadata": {}
                },
                {
                    "output_type": "display_data",
                    "data": {
                        "text/html": "Total execution time: 00:00:04.1137376"
                    },
                    "metadata": {}
                },
                {
                    "output_type": "execute_result",
                    "metadata": {},
                    "execution_count": 10,
                    "data": {
                        "application/vnd.dataresource+json": {
                            "schema": {
                                "fields": [
                                    {
                                        "name": "(No column name)"
                                    }
                                ]
                            },
                            "data": [
                                {
                                    "0": "998"
                                }
                            ]
                        },
                        "text/html": "<table><tr><th>(No column name)</th></tr><tr><td>998</td></tr></table>"
                    }
                },
                {
                    "output_type": "execute_result",
                    "metadata": {},
                    "execution_count": 10,
                    "data": {
                        "application/vnd.dataresource+json": {
                            "schema": {
                                "fields": [
                                    {
                                        "name": "wcs_click_date_sk"
                                    },
                                    {
                                        "name": "wcs_click_time_sk"
                                    },
                                    {
                                        "name": "wcs_sales_sk"
                                    },
                                    {
                                        "name": "wcs_item_sk"
                                    },
                                    {
                                        "name": "wcs_web_page_sk"
                                    },
                                    {
                                        "name": "wcs_user_sk"
                                    }
                                ]
                            },
                            "data": [
                                {
                                    "0": "38569",
                                    "1": "4250",
                                    "2": "NULL",
                                    "3": "7840",
                                    "4": "18",
                                    "5": "NULL"
                                },
                                {
                                    "0": "38569",
                                    "1": "85106",
                                    "2": "NULL",
                                    "3": "11130",
                                    "4": "18",
                                    "5": "NULL"
                                },
                                {
                                    "0": "38569",
                                    "1": "52655",
                                    "2": "NULL",
                                    "3": "3716",
                                    "4": "18",
                                    "5": "NULL"
                                },
                                {
                                    "0": "38569",
                                    "1": "70934",
                                    "2": "NULL",
                                    "3": "13243",
                                    "4": "18",
                                    "5": "NULL"
                                },
                                {
                                    "0": "38569",
                                    "1": "40166",
                                    "2": "NULL",
                                    "3": "5389",
                                    "4": "18",
                                    "5": "NULL"
                                },
                                {
                                    "0": "38570",
                                    "1": "73271",
                                    "2": "NULL",
                                    "3": "3331",
                                    "4": "18",
                                    "5": "NULL"
                                },
                                {
                                    "0": "38570",
                                    "1": "24651",
                                    "2": "NULL",
                                    "3": "10049",
                                    "4": "18",
                                    "5": "NULL"
                                },
                                {
                                    "0": "38570",
                                    "1": "23805",
                                    "2": "NULL",
                                    "3": "921",
                                    "4": "18",
                                    "5": "NULL"
                                },
                                {
                                    "0": "38570",
                                    "1": "66458",
                                    "2": "NULL",
                                    "3": "4407",
                                    "4": "18",
                                    "5": "NULL"
                                },
                                {
                                    "0": "38570",
                                    "1": "65912",
                                    "2": "NULL",
                                    "3": "11494",
                                    "4": "18",
                                    "5": "NULL"
                                },
                                {
                                    "0": "38570",
                                    "1": "80073",
                                    "2": "NULL",
                                    "3": "1833",
                                    "4": "18",
                                    "5": "NULL"
                                },
                                {
                                    "0": "38570",
                                    "1": "9522",
                                    "2": "NULL",
                                    "3": "17636",
                                    "4": "18",
                                    "5": "NULL"
                                },
                                {
                                    "0": "38570",
                                    "1": "22779",
                                    "2": "NULL",
                                    "3": "9063",
                                    "4": "18",
                                    "5": "NULL"
                                },
                                {
                                    "0": "38570",
                                    "1": "43276",
                                    "2": "NULL",
                                    "3": "8696",
                                    "4": "18",
                                    "5": "NULL"
                                },
                                {
                                    "0": "38570",
                                    "1": "18021",
                                    "2": "NULL",
                                    "3": "3231",
                                    "4": "18",
                                    "5": "NULL"
                                },
                                {
                                    "0": "38570",
                                    "1": "37963",
                                    "2": "NULL",
                                    "3": "17050",
                                    "4": "18",
                                    "5": "NULL"
                                },
                                {
                                    "0": "38570",
                                    "1": "49125",
                                    "2": "NULL",
                                    "3": "9044",
                                    "4": "18",
                                    "5": "NULL"
                                },
                                {
                                    "0": "38570",
                                    "1": "69824",
                                    "2": "NULL",
                                    "3": "3255",
                                    "4": "18",
                                    "5": "NULL"
                                },
                                {
                                    "0": "38570",
                                    "1": "10028",
                                    "2": "NULL",
                                    "3": "1355",
                                    "4": "18",
                                    "5": "NULL"
                                },
                                {
                                    "0": "38570",
                                    "1": "6749",
                                    "2": "NULL",
                                    "3": "16880",
                                    "4": "18",
                                    "5": "NULL"
                                },
                                {
                                    "0": "38570",
                                    "1": "11109",
                                    "2": "NULL",
                                    "3": "8200",
                                    "4": "18",
                                    "5": "NULL"
                                },
                                {
                                    "0": "38570",
                                    "1": "26098",
                                    "2": "NULL",
                                    "3": "8862",
                                    "4": "18",
                                    "5": "NULL"
                                },
                                {
                                    "0": "38570",
                                    "1": "67236",
                                    "2": "NULL",
                                    "3": "322",
                                    "4": "18",
                                    "5": "NULL"
                                },
                                {
                                    "0": "38570",
                                    "1": "73267",
                                    "2": "NULL",
                                    "3": "16552",
                                    "4": "18",
                                    "5": "NULL"
                                },
                                {
                                    "0": "38570",
                                    "1": "13880",
                                    "2": "NULL",
                                    "3": "8774",
                                    "4": "18",
                                    "5": "NULL"
                                }
                            ]
                        },
                        "text/html": "<table><tr><th>wcs_click_date_sk</th><th>wcs_click_time_sk</th><th>wcs_sales_sk</th><th>wcs_item_sk</th><th>wcs_web_page_sk</th><th>wcs_user_sk</th></tr><tr><td>38569</td><td>4250</td><td>NULL</td><td>7840</td><td>18</td><td>NULL</td></tr><tr><td>38569</td><td>85106</td><td>NULL</td><td>11130</td><td>18</td><td>NULL</td></tr><tr><td>38569</td><td>52655</td><td>NULL</td><td>3716</td><td>18</td><td>NULL</td></tr><tr><td>38569</td><td>70934</td><td>NULL</td><td>13243</td><td>18</td><td>NULL</td></tr><tr><td>38569</td><td>40166</td><td>NULL</td><td>5389</td><td>18</td><td>NULL</td></tr><tr><td>38570</td><td>73271</td><td>NULL</td><td>3331</td><td>18</td><td>NULL</td></tr><tr><td>38570</td><td>24651</td><td>NULL</td><td>10049</td><td>18</td><td>NULL</td></tr><tr><td>38570</td><td>23805</td><td>NULL</td><td>921</td><td>18</td><td>NULL</td></tr><tr><td>38570</td><td>66458</td><td>NULL</td><td>4407</td><td>18</td><td>NULL</td></tr><tr><td>38570</td><td>65912</td><td>NULL</td><td>11494</td><td>18</td><td>NULL</td></tr><tr><td>38570</td><td>80073</td><td>NULL</td><td>1833</td><td>18</td><td>NULL</td></tr><tr><td>38570</td><td>9522</td><td>NULL</td><td>17636</td><td>18</td><td>NULL</td></tr><tr><td>38570</td><td>22779</td><td>NULL</td><td>9063</td><td>18</td><td>NULL</td></tr><tr><td>38570</td><td>43276</td><td>NULL</td><td>8696</td><td>18</td><td>NULL</td></tr><tr><td>38570</td><td>18021</td><td>NULL</td><td>3231</td><td>18</td><td>NULL</td></tr><tr><td>38570</td><td>37963</td><td>NULL</td><td>17050</td><td>18</td><td>NULL</td></tr><tr><td>38570</td><td>49125</td><td>NULL</td><td>9044</td><td>18</td><td>NULL</td></tr><tr><td>38570</td><td>69824</td><td>NULL</td><td>3255</td><td>18</td><td>NULL</td></tr><tr><td>38570</td><td>10028</td><td>NULL</td><td>1355</td><td>18</td><td>NULL</td></tr><tr><td>38570</td><td>6749</td><td>NULL</td><td>16880</td><td>18</td><td>NULL</td></tr><tr><td>38570</td><td>11109</td><td>NULL</td><td>8200</td><td>18</td><td>NULL</td></tr><tr><td>38570</td><td>26098</td><td>NULL</td><td>8862</td><td>18</td><td>NULL</td></tr><tr><td>38570</td><td>67236</td><td>NULL</td><td>322</td><td>18</td><td>NULL</td></tr><tr><td>38570</td><td>73267</td><td>NULL</td><td>16552</td><td>18</td><td>NULL</td></tr><tr><td>38570</td><td>13880</td><td>NULL</td><td>8774</td><td>18</td><td>NULL</td></tr></table>"
                    }
                }
            ],
            "execution_count": 10
        },
        {
            "cell_type": "markdown",
            "source": "![ADL Gen2 Query Plan](https://github.com/MasayukiOzawa/decode-2019-demo/raw/master/Images/03.Data%20Store/01.Storage%20Pool/ADL%20Query%20Plan.png)",
            "metadata": {}
        },
        {
            "cell_type": "markdown",
            "source": "## 3. 階層化したデータへのアクセス (AWS S3)",
            "metadata": {}
        },
        {
            "cell_type": "code",
            "source": "USE [StoragePool];\r\n\r\n-- オブジェクトの初期化\r\nIF EXISTS (SELECT * FROM sys.external_tables WHERE name = 'StoragePoolS3TBL')\r\nBEGIN\r\n\tDROP EXTERNAL TABLE [StoragePoolS3TBL]\r\nEND;\r\nGO",
            "metadata": {},
            "outputs": [
                {
                    "output_type": "display_data",
                    "data": {
                        "text/html": "Commands completed successfully."
                    },
                    "metadata": {}
                },
                {
                    "output_type": "display_data",
                    "data": {
                        "text/html": "Total execution time: 00:00:00.0146324"
                    },
                    "metadata": {}
                }
            ],
            "execution_count": 11
        },
        {
            "cell_type": "markdown",
            "source": "**1. 外部テーブルの作成**  \r\nテーブルの作成方法は、HDFS のデータアクセスと同様",
            "metadata": {}
        },
        {
            "cell_type": "code",
            "source": "USE [StoragePool];\r\n\r\n-- AWS S3 の内容を外部テーブルとして作成\r\nCREATE EXTERNAL TABLE [StoragePoolS3TBL]\r\n(\r\n\twcs_click_date_sk BIGINT , \r\n\twcs_click_time_sk BIGINT , \r\n\twcs_sales_sk BIGINT , \r\n\twcs_item_sk BIGINT , \r\n\twcs_web_page_sk BIGINT , \r\n\twcs_user_sk BIGINT\r\n)\r\nWITH\r\n(\r\n    DATA_SOURCE = SqlStoragePool,\r\n\tLOCATION = '/mounts/aws/s3',\r\n    FILE_FORMAT = csv_file\r\n)\r\nGO",
            "metadata": {},
            "outputs": [
                {
                    "output_type": "display_data",
                    "data": {
                        "text/html": "Commands completed successfully."
                    },
                    "metadata": {}
                },
                {
                    "output_type": "display_data",
                    "data": {
                        "text/html": "Total execution time: 00:00:00.3176218"
                    },
                    "metadata": {}
                }
            ],
            "execution_count": 12
        },
        {
            "cell_type": "markdown",
            "source": "**2. AWS S3 のデータにアクセス**",
            "metadata": {}
        },
        {
            "cell_type": "code",
            "source": "USE [StoragePool];\r\n\r\nSELECT COUNT(*) FROM [StoragePoolS3TBL]\r\nSELECT TOP 25 * FROM [StoragePoolS3TBL]",
            "metadata": {},
            "outputs": [
                {
                    "output_type": "display_data",
                    "data": {
                        "text/html": "(1 row affected)"
                    },
                    "metadata": {}
                },
                {
                    "output_type": "display_data",
                    "data": {
                        "text/html": "(25 rows affected)"
                    },
                    "metadata": {}
                },
                {
                    "output_type": "display_data",
                    "data": {
                        "text/html": "Total execution time: 00:00:04.2810946"
                    },
                    "metadata": {}
                },
                {
                    "output_type": "execute_result",
                    "metadata": {},
                    "execution_count": 13,
                    "data": {
                        "application/vnd.dataresource+json": {
                            "schema": {
                                "fields": [
                                    {
                                        "name": "(No column name)"
                                    }
                                ]
                            },
                            "data": [
                                {
                                    "0": "1497"
                                }
                            ]
                        },
                        "text/html": "<table><tr><th>(No column name)</th></tr><tr><td>1497</td></tr></table>"
                    }
                },
                {
                    "output_type": "execute_result",
                    "metadata": {},
                    "execution_count": 13,
                    "data": {
                        "application/vnd.dataresource+json": {
                            "schema": {
                                "fields": [
                                    {
                                        "name": "wcs_click_date_sk"
                                    },
                                    {
                                        "name": "wcs_click_time_sk"
                                    },
                                    {
                                        "name": "wcs_sales_sk"
                                    },
                                    {
                                        "name": "wcs_item_sk"
                                    },
                                    {
                                        "name": "wcs_web_page_sk"
                                    },
                                    {
                                        "name": "wcs_user_sk"
                                    }
                                ]
                            },
                            "data": [
                                {
                                    "0": "38569",
                                    "1": "4250",
                                    "2": "NULL",
                                    "3": "7840",
                                    "4": "18",
                                    "5": "NULL"
                                },
                                {
                                    "0": "38569",
                                    "1": "85106",
                                    "2": "NULL",
                                    "3": "11130",
                                    "4": "18",
                                    "5": "NULL"
                                },
                                {
                                    "0": "38569",
                                    "1": "52655",
                                    "2": "NULL",
                                    "3": "3716",
                                    "4": "18",
                                    "5": "NULL"
                                },
                                {
                                    "0": "38569",
                                    "1": "70934",
                                    "2": "NULL",
                                    "3": "13243",
                                    "4": "18",
                                    "5": "NULL"
                                },
                                {
                                    "0": "38569",
                                    "1": "40166",
                                    "2": "NULL",
                                    "3": "5389",
                                    "4": "18",
                                    "5": "NULL"
                                },
                                {
                                    "0": "38570",
                                    "1": "73271",
                                    "2": "NULL",
                                    "3": "3331",
                                    "4": "18",
                                    "5": "NULL"
                                },
                                {
                                    "0": "38570",
                                    "1": "24651",
                                    "2": "NULL",
                                    "3": "10049",
                                    "4": "18",
                                    "5": "NULL"
                                },
                                {
                                    "0": "38570",
                                    "1": "23805",
                                    "2": "NULL",
                                    "3": "921",
                                    "4": "18",
                                    "5": "NULL"
                                },
                                {
                                    "0": "38570",
                                    "1": "66458",
                                    "2": "NULL",
                                    "3": "4407",
                                    "4": "18",
                                    "5": "NULL"
                                },
                                {
                                    "0": "38570",
                                    "1": "65912",
                                    "2": "NULL",
                                    "3": "11494",
                                    "4": "18",
                                    "5": "NULL"
                                },
                                {
                                    "0": "38570",
                                    "1": "80073",
                                    "2": "NULL",
                                    "3": "1833",
                                    "4": "18",
                                    "5": "NULL"
                                },
                                {
                                    "0": "38570",
                                    "1": "9522",
                                    "2": "NULL",
                                    "3": "17636",
                                    "4": "18",
                                    "5": "NULL"
                                },
                                {
                                    "0": "38570",
                                    "1": "22779",
                                    "2": "NULL",
                                    "3": "9063",
                                    "4": "18",
                                    "5": "NULL"
                                },
                                {
                                    "0": "38570",
                                    "1": "43276",
                                    "2": "NULL",
                                    "3": "8696",
                                    "4": "18",
                                    "5": "NULL"
                                },
                                {
                                    "0": "38570",
                                    "1": "18021",
                                    "2": "NULL",
                                    "3": "3231",
                                    "4": "18",
                                    "5": "NULL"
                                },
                                {
                                    "0": "38570",
                                    "1": "37963",
                                    "2": "NULL",
                                    "3": "17050",
                                    "4": "18",
                                    "5": "NULL"
                                },
                                {
                                    "0": "38570",
                                    "1": "49125",
                                    "2": "NULL",
                                    "3": "9044",
                                    "4": "18",
                                    "5": "NULL"
                                },
                                {
                                    "0": "38570",
                                    "1": "69824",
                                    "2": "NULL",
                                    "3": "3255",
                                    "4": "18",
                                    "5": "NULL"
                                },
                                {
                                    "0": "38570",
                                    "1": "10028",
                                    "2": "NULL",
                                    "3": "1355",
                                    "4": "18",
                                    "5": "NULL"
                                },
                                {
                                    "0": "38570",
                                    "1": "6749",
                                    "2": "NULL",
                                    "3": "16880",
                                    "4": "18",
                                    "5": "NULL"
                                },
                                {
                                    "0": "38570",
                                    "1": "11109",
                                    "2": "NULL",
                                    "3": "8200",
                                    "4": "18",
                                    "5": "NULL"
                                },
                                {
                                    "0": "38570",
                                    "1": "26098",
                                    "2": "NULL",
                                    "3": "8862",
                                    "4": "18",
                                    "5": "NULL"
                                },
                                {
                                    "0": "38570",
                                    "1": "67236",
                                    "2": "NULL",
                                    "3": "322",
                                    "4": "18",
                                    "5": "NULL"
                                },
                                {
                                    "0": "38570",
                                    "1": "73267",
                                    "2": "NULL",
                                    "3": "16552",
                                    "4": "18",
                                    "5": "NULL"
                                },
                                {
                                    "0": "38570",
                                    "1": "13880",
                                    "2": "NULL",
                                    "3": "8774",
                                    "4": "18",
                                    "5": "NULL"
                                }
                            ]
                        },
                        "text/html": "<table><tr><th>wcs_click_date_sk</th><th>wcs_click_time_sk</th><th>wcs_sales_sk</th><th>wcs_item_sk</th><th>wcs_web_page_sk</th><th>wcs_user_sk</th></tr><tr><td>38569</td><td>4250</td><td>NULL</td><td>7840</td><td>18</td><td>NULL</td></tr><tr><td>38569</td><td>85106</td><td>NULL</td><td>11130</td><td>18</td><td>NULL</td></tr><tr><td>38569</td><td>52655</td><td>NULL</td><td>3716</td><td>18</td><td>NULL</td></tr><tr><td>38569</td><td>70934</td><td>NULL</td><td>13243</td><td>18</td><td>NULL</td></tr><tr><td>38569</td><td>40166</td><td>NULL</td><td>5389</td><td>18</td><td>NULL</td></tr><tr><td>38570</td><td>73271</td><td>NULL</td><td>3331</td><td>18</td><td>NULL</td></tr><tr><td>38570</td><td>24651</td><td>NULL</td><td>10049</td><td>18</td><td>NULL</td></tr><tr><td>38570</td><td>23805</td><td>NULL</td><td>921</td><td>18</td><td>NULL</td></tr><tr><td>38570</td><td>66458</td><td>NULL</td><td>4407</td><td>18</td><td>NULL</td></tr><tr><td>38570</td><td>65912</td><td>NULL</td><td>11494</td><td>18</td><td>NULL</td></tr><tr><td>38570</td><td>80073</td><td>NULL</td><td>1833</td><td>18</td><td>NULL</td></tr><tr><td>38570</td><td>9522</td><td>NULL</td><td>17636</td><td>18</td><td>NULL</td></tr><tr><td>38570</td><td>22779</td><td>NULL</td><td>9063</td><td>18</td><td>NULL</td></tr><tr><td>38570</td><td>43276</td><td>NULL</td><td>8696</td><td>18</td><td>NULL</td></tr><tr><td>38570</td><td>18021</td><td>NULL</td><td>3231</td><td>18</td><td>NULL</td></tr><tr><td>38570</td><td>37963</td><td>NULL</td><td>17050</td><td>18</td><td>NULL</td></tr><tr><td>38570</td><td>49125</td><td>NULL</td><td>9044</td><td>18</td><td>NULL</td></tr><tr><td>38570</td><td>69824</td><td>NULL</td><td>3255</td><td>18</td><td>NULL</td></tr><tr><td>38570</td><td>10028</td><td>NULL</td><td>1355</td><td>18</td><td>NULL</td></tr><tr><td>38570</td><td>6749</td><td>NULL</td><td>16880</td><td>18</td><td>NULL</td></tr><tr><td>38570</td><td>11109</td><td>NULL</td><td>8200</td><td>18</td><td>NULL</td></tr><tr><td>38570</td><td>26098</td><td>NULL</td><td>8862</td><td>18</td><td>NULL</td></tr><tr><td>38570</td><td>67236</td><td>NULL</td><td>322</td><td>18</td><td>NULL</td></tr><tr><td>38570</td><td>73267</td><td>NULL</td><td>16552</td><td>18</td><td>NULL</td></tr><tr><td>38570</td><td>13880</td><td>NULL</td><td>8774</td><td>18</td><td>NULL</td></tr></table>"
                    }
                }
            ],
            "execution_count": 13
        }
    ]
}