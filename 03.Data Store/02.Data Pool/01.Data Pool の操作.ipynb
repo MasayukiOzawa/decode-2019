{
    "metadata": {
        "kernelspec": {
            "name": "SQL",
            "display_name": "SQL",
            "language": "sql"
        },
        "language_info": {
            "name": "sql",
            "version": ""
        }
    },
    "nbformat_minor": 2,
    "nbformat": 4,
    "cells": [
        {
            "cell_type": "markdown",
            "source": "# Data pool の操作 ",
            "metadata": {}
        },
        {
            "cell_type": "markdown",
            "source": "## 1. スケールアウトテーブルの作成",
            "metadata": {}
        },
        {
            "cell_type": "code",
            "source": "USE [DataPool];\r\n\r\n-- オブジェクトの初期化\r\nIF EXISTS (SELECT * FROM sys.external_tables WHERE name = 'clickstream_datamart')\r\nBEGIN\r\n\tDROP EXTERNAL TABLE clickstream_datamart\r\nEND;\r\nGO",
            "metadata": {},
            "outputs": [
                {
                    "output_type": "display_data",
                    "data": {
                        "text/html": "Commands completed successfully."
                    },
                    "metadata": {}
                },
                {
                    "output_type": "display_data",
                    "data": {
                        "text/html": "Total execution time: 00:00:00.6171997"
                    },
                    "metadata": {}
                }
            ],
            "execution_count": 10
        },
        {
            "cell_type": "markdown",
            "source": "**1. Data Pool に、スケールアウトデータマート用のテーブルを作成**  \r\n本クエリにより、Data Pool 内の各 SQL Server にテーブルが作成される  \r\n(テーブル作成が Data Pool の各 SQL Server に伝搬されるまで多少のタイムラグがある)\r\n\r\n作成されたテーブルは列ストアインデックスが自動的に作成された状態となっている",
            "metadata": {}
        },
        {
            "cell_type": "code",
            "source": "USE [DataPool];\r\n\r\n-- テーブルの作成\r\nCREATE EXTERNAL TABLE [clickstream_datamart]\r\n(\r\n\twcs_click_date_sk BIGINT , \r\n\twcs_click_time_sk BIGINT , \r\n\twcs_sales_sk BIGINT , \r\n\twcs_item_sk BIGINT , \r\n\twcs_web_page_sk BIGINT , \r\n\twcs_user_sk BIGINT\r\n) \r\nWITH\r\n( \r\n\tDATA_SOURCE = SqlDataPool,\t\r\n\tDISTRIBUTION = ROUND_ROBIN\r\n);\r\nGO\r\nWAITFOR DELAY '00:00:10'",
            "metadata": {},
            "outputs": [
                {
                    "output_type": "display_data",
                    "data": {
                        "text/html": "Commands completed successfully."
                    },
                    "metadata": {}
                },
                {
                    "output_type": "display_data",
                    "data": {
                        "text/html": "Total execution time: 00:00:00.6103302"
                    },
                    "metadata": {}
                },
                {
                    "output_type": "display_data",
                    "data": {
                        "text/html": "Commands completed successfully."
                    },
                    "metadata": {}
                },
                {
                    "output_type": "display_data",
                    "data": {
                        "text/html": "Total execution time: 00:00:10.0023408"
                    },
                    "metadata": {}
                }
            ],
            "execution_count": 12
        },
        {
            "cell_type": "markdown",
            "source": "**2. リンクサーバー経由で確認**  \r\nMaster Instance に設定したリンクサーバー経由で、Data Pool 内の SQL Server の情報を確認",
            "metadata": {}
        },
        {
            "cell_type": "code",
            "source": "USE [DataPool];\r\n\r\nSELECT\r\n\t(SELECT name from [DATA-0-0.DATA-0-SVC.MSSQL-CLUSTER.SVC.CLUSTER.LOCAL].DataPool.sys.servers WHERE server_id = 0) AS server_name\r\n\t, o.name\r\n\t, i.name\r\n\t, i.type_desc\r\n\t, (SELECT COUNT(*) FROM [DATA-0-0.DATA-0-SVC.MSSQL-CLUSTER.SVC.CLUSTER.LOCAL].DataPool.dbo.clickstream_datamart) AS count\r\nFROM\r\n\t[DATA-0-0.DATA-0-SVC.MSSQL-CLUSTER.SVC.CLUSTER.LOCAL].DataPool.sys.indexes AS i\r\n\tLEFT JOIN \r\n\t[DATA-0-0.DATA-0-SVC.MSSQL-CLUSTER.SVC.CLUSTER.LOCAL].DataPool.sys.objects AS o\r\n\tON i.object_id = o.object_id\r\nWHERE\r\n\to.name = 'clickstream_datamart'\r\nUNION\r\nSELECT\r\n\t(SELECT name from [DATA-0-1.DATA-0-SVC.MSSQL-CLUSTER.SVC.CLUSTER.LOCAL].DataPool.sys.servers WHERE server_id = 0) AS server_name\r\n\t, o.name\r\n\t, i.name\r\n\t, i.type_desc\r\n\t, (SELECT COUNT(*) FROM [DATA-0-1.DATA-0-SVC.MSSQL-CLUSTER.SVC.CLUSTER.LOCAL].DataPool.dbo.clickstream_datamart) AS count\r\nFROM\r\n\t[DATA-0-1.DATA-0-SVC.MSSQL-CLUSTER.SVC.CLUSTER.LOCAL].DataPool.sys.indexes AS i\r\n\tLEFT JOIN \r\n\t[DATA-0-1.DATA-0-SVC.MSSQL-CLUSTER.SVC.CLUSTER.LOCAL].DataPool.sys.objects AS o\r\n\tON i.object_id = o.object_id\r\nWHERE\r\n\to.name = 'clickstream_datamart'\r\nGO",
            "metadata": {},
            "outputs": [
                {
                    "output_type": "error",
                    "evalue": "Msg 7314, Level 16, State 1, Line 3\r\nThe OLE DB provider \"MSOLEDBSQL\" for linked server \"DATA-0-0.DATA-0-SVC.MSSQL-CLUSTER.SVC.CLUSTER.LOCAL\" does not contain the table \"\"DataPool\".\"dbo\".\"clickstream_datamart\"\". The table either does not exist or the current user does not have permissions on that table.",
                    "ename": "",
                    "traceback": []
                },
                {
                    "output_type": "display_data",
                    "data": {
                        "text/html": "Total execution time: 00:00:00.0231298"
                    },
                    "metadata": {}
                }
            ],
            "execution_count": 11
        },
        {
            "cell_type": "markdown",
            "source": "![Linked Server](https://github.com/MasayukiOzawa/decode-2019-demo/raw/master/Images/03.Data%20Store/02.Data%20Pool/Data%20Pool%20Database%20object.png)",
            "metadata": {}
        },
        {
            "cell_type": "markdown",
            "source": "## 2. スケールアウトデータマートにデータの投入",
            "metadata": {}
        },
        {
            "cell_type": "markdown",
            "source": "**1. データ投入**  \r\nINSERTO SELECT でスケールアウトデータマートのテーブルを指定することで、データマートにデータを投入することができる。  ",
            "metadata": {}
        },
        {
            "cell_type": "code",
            "source": "USE [DataPool];\r\nINSERT INTO clickstream_datamart\r\nSELECT * FROM StoragePool..StoragePoolTBL\r\nGO",
            "metadata": {},
            "outputs": [
                {
                    "output_type": "display_data",
                    "data": {
                        "text/html": "(1497 rows affected)"
                    },
                    "metadata": {}
                },
                {
                    "output_type": "display_data",
                    "data": {
                        "text/html": "Total execution time: 00:00:03.5751605"
                    },
                    "metadata": {}
                }
            ],
            "execution_count": 14
        },
        {
            "cell_type": "markdown",
            "source": "**2. 投入されたデータの確認**  \r\nリンクサーバー経由で投入されたデータの状況を確認",
            "metadata": {}
        },
        {
            "cell_type": "code",
            "source": "USE [DataPool];\r\n\r\nSELECT\r\n\t(SELECT name from [DATA-0-0.DATA-0-SVC.MSSQL-CLUSTER.SVC.CLUSTER.LOCAL].DataPool.sys.servers WHERE server_id = 0) AS server_name\r\n\t, o.name\r\n\t, i.name\r\n\t, i.type_desc\r\n\t, (SELECT COUNT(*) FROM [DATA-0-0.DATA-0-SVC.MSSQL-CLUSTER.SVC.CLUSTER.LOCAL].DataPool.dbo.clickstream_datamart) AS count\r\nFROM\r\n\t[DATA-0-0.DATA-0-SVC.MSSQL-CLUSTER.SVC.CLUSTER.LOCAL].DataPool.sys.indexes AS i\r\n\tLEFT JOIN \r\n\t[DATA-0-0.DATA-0-SVC.MSSQL-CLUSTER.SVC.CLUSTER.LOCAL].DataPool.sys.objects AS o\r\n\tON i.object_id = o.object_id\r\nWHERE\r\n\to.name = 'clickstream_datamart'\r\nUNION\r\nSELECT\r\n\t(SELECT name from [DATA-0-1.DATA-0-SVC.MSSQL-CLUSTER.SVC.CLUSTER.LOCAL].DataPool.sys.servers WHERE server_id = 0) AS server_name\r\n\t, o.name\r\n\t, i.name\r\n\t, i.type_desc\r\n\t, (SELECT COUNT(*) FROM [DATA-0-1.DATA-0-SVC.MSSQL-CLUSTER.SVC.CLUSTER.LOCAL].DataPool.dbo.clickstream_datamart) AS count\r\nFROM\r\n\t[DATA-0-1.DATA-0-SVC.MSSQL-CLUSTER.SVC.CLUSTER.LOCAL].DataPool.sys.indexes AS i\r\n\tLEFT JOIN \r\n\t[DATA-0-1.DATA-0-SVC.MSSQL-CLUSTER.SVC.CLUSTER.LOCAL].DataPool.sys.objects AS o\r\n\tON i.object_id = o.object_id\r\nWHERE\r\n\to.name = 'clickstream_datamart'\r\nGO",
            "metadata": {},
            "outputs": [
                {
                    "output_type": "display_data",
                    "data": {
                        "text/html": "(2 rows affected)"
                    },
                    "metadata": {}
                },
                {
                    "output_type": "display_data",
                    "data": {
                        "text/html": "Total execution time: 00:00:00.1560458"
                    },
                    "metadata": {}
                },
                {
                    "output_type": "execute_result",
                    "metadata": {},
                    "execution_count": 15,
                    "data": {
                        "application/vnd.dataresource+json": {
                            "schema": {
                                "fields": [
                                    {
                                        "name": "server_name"
                                    },
                                    {
                                        "name": "name"
                                    },
                                    {
                                        "name": "name"
                                    },
                                    {
                                        "name": "type_desc"
                                    },
                                    {
                                        "name": "count"
                                    }
                                ]
                            },
                            "data": [
                                {
                                    "0": "data-0-0",
                                    "1": "clickstream_datamart",
                                    "2": "cci",
                                    "3": "CLUSTERED COLUMNSTORE",
                                    "4": "1181"
                                },
                                {
                                    "0": "data-0-1",
                                    "1": "clickstream_datamart",
                                    "2": "cci",
                                    "3": "CLUSTERED COLUMNSTORE",
                                    "4": "316"
                                }
                            ]
                        },
                        "text/html": "<table><tr><th>server_name</th><th>name</th><th>name</th><th>type_desc</th><th>count</th></tr><tr><td>data-0-0</td><td>clickstream_datamart</td><td>cci</td><td>CLUSTERED COLUMNSTORE</td><td>1181</td></tr><tr><td>data-0-1</td><td>clickstream_datamart</td><td>cci</td><td>CLUSTERED COLUMNSTORE</td><td>316</td></tr></table>"
                    }
                }
            ],
            "execution_count": 15
        },
        {
            "cell_type": "markdown",
            "source": "**3. スケールアウトデータマーのデータ検索**  \r\nスケールアウトデータマートに投入されているデータは、Master Instance からデータを取得することができる。",
            "metadata": {}
        },
        {
            "cell_type": "code",
            "source": "USE [DataPool];\r\n\r\nSELECT TOP 25 * FROM clickstream_datamart",
            "metadata": {},
            "outputs": [
                {
                    "output_type": "display_data",
                    "data": {
                        "text/html": "(25 rows affected)"
                    },
                    "metadata": {}
                },
                {
                    "output_type": "display_data",
                    "data": {
                        "text/html": "Total execution time: 00:00:02.5348125"
                    },
                    "metadata": {}
                },
                {
                    "output_type": "execute_result",
                    "metadata": {},
                    "execution_count": 16,
                    "data": {
                        "application/vnd.dataresource+json": {
                            "schema": {
                                "fields": [
                                    {
                                        "name": "wcs_click_date_sk"
                                    },
                                    {
                                        "name": "wcs_click_time_sk"
                                    },
                                    {
                                        "name": "wcs_sales_sk"
                                    },
                                    {
                                        "name": "wcs_item_sk"
                                    },
                                    {
                                        "name": "wcs_web_page_sk"
                                    },
                                    {
                                        "name": "wcs_user_sk"
                                    }
                                ]
                            },
                            "data": [
                                {
                                    "0": "38584",
                                    "1": "53740",
                                    "2": "NULL",
                                    "3": "17798",
                                    "4": "18",
                                    "5": "NULL"
                                },
                                {
                                    "0": "38584",
                                    "1": "42373",
                                    "2": "NULL",
                                    "3": "11965",
                                    "4": "18",
                                    "5": "NULL"
                                },
                                {
                                    "0": "38584",
                                    "1": "60657",
                                    "2": "NULL",
                                    "3": "10185",
                                    "4": "18",
                                    "5": "NULL"
                                },
                                {
                                    "0": "38584",
                                    "1": "13440",
                                    "2": "NULL",
                                    "3": "15478",
                                    "4": "18",
                                    "5": "NULL"
                                },
                                {
                                    "0": "38584",
                                    "1": "78804",
                                    "2": "NULL",
                                    "3": "10026",
                                    "4": "18",
                                    "5": "NULL"
                                },
                                {
                                    "0": "38584",
                                    "1": "86159",
                                    "2": "NULL",
                                    "3": "245",
                                    "4": "18",
                                    "5": "NULL"
                                },
                                {
                                    "0": "38584",
                                    "1": "79364",
                                    "2": "NULL",
                                    "3": "5722",
                                    "4": "18",
                                    "5": "NULL"
                                },
                                {
                                    "0": "38584",
                                    "1": "86173",
                                    "2": "NULL",
                                    "3": "4495",
                                    "4": "18",
                                    "5": "NULL"
                                },
                                {
                                    "0": "38584",
                                    "1": "82380",
                                    "2": "NULL",
                                    "3": "17036",
                                    "4": "18",
                                    "5": "NULL"
                                },
                                {
                                    "0": "38584",
                                    "1": "37842",
                                    "2": "NULL",
                                    "3": "10401",
                                    "4": "18",
                                    "5": "NULL"
                                },
                                {
                                    "0": "38584",
                                    "1": "12063",
                                    "2": "NULL",
                                    "3": "5248",
                                    "4": "18",
                                    "5": "NULL"
                                },
                                {
                                    "0": "38584",
                                    "1": "68179",
                                    "2": "NULL",
                                    "3": "6310",
                                    "4": "18",
                                    "5": "NULL"
                                },
                                {
                                    "0": "38584",
                                    "1": "76441",
                                    "2": "NULL",
                                    "3": "2755",
                                    "4": "18",
                                    "5": "NULL"
                                },
                                {
                                    "0": "38584",
                                    "1": "8460",
                                    "2": "NULL",
                                    "3": "605",
                                    "4": "18",
                                    "5": "NULL"
                                },
                                {
                                    "0": "38584",
                                    "1": "51736",
                                    "2": "NULL",
                                    "3": "10991",
                                    "4": "18",
                                    "5": "NULL"
                                },
                                {
                                    "0": "38584",
                                    "1": "54535",
                                    "2": "NULL",
                                    "3": "14499",
                                    "4": "18",
                                    "5": "NULL"
                                },
                                {
                                    "0": "38584",
                                    "1": "55646",
                                    "2": "NULL",
                                    "3": "16968",
                                    "4": "18",
                                    "5": "NULL"
                                },
                                {
                                    "0": "38584",
                                    "1": "76280",
                                    "2": "NULL",
                                    "3": "1982",
                                    "4": "18",
                                    "5": "NULL"
                                },
                                {
                                    "0": "38584",
                                    "1": "85237",
                                    "2": "NULL",
                                    "3": "5316",
                                    "4": "18",
                                    "5": "NULL"
                                },
                                {
                                    "0": "38584",
                                    "1": "34979",
                                    "2": "NULL",
                                    "3": "12207",
                                    "4": "18",
                                    "5": "NULL"
                                },
                                {
                                    "0": "38584",
                                    "1": "36367",
                                    "2": "NULL",
                                    "3": "8592",
                                    "4": "18",
                                    "5": "NULL"
                                },
                                {
                                    "0": "38584",
                                    "1": "3823",
                                    "2": "NULL",
                                    "3": "8634",
                                    "4": "18",
                                    "5": "NULL"
                                },
                                {
                                    "0": "38585",
                                    "1": "54051",
                                    "2": "NULL",
                                    "3": "9176",
                                    "4": "18",
                                    "5": "NULL"
                                },
                                {
                                    "0": "38585",
                                    "1": "46219",
                                    "2": "NULL",
                                    "3": "16813",
                                    "4": "18",
                                    "5": "NULL"
                                },
                                {
                                    "0": "38585",
                                    "1": "5783",
                                    "2": "NULL",
                                    "3": "2678",
                                    "4": "18",
                                    "5": "NULL"
                                }
                            ]
                        },
                        "text/html": "<table><tr><th>wcs_click_date_sk</th><th>wcs_click_time_sk</th><th>wcs_sales_sk</th><th>wcs_item_sk</th><th>wcs_web_page_sk</th><th>wcs_user_sk</th></tr><tr><td>38584</td><td>53740</td><td>NULL</td><td>17798</td><td>18</td><td>NULL</td></tr><tr><td>38584</td><td>42373</td><td>NULL</td><td>11965</td><td>18</td><td>NULL</td></tr><tr><td>38584</td><td>60657</td><td>NULL</td><td>10185</td><td>18</td><td>NULL</td></tr><tr><td>38584</td><td>13440</td><td>NULL</td><td>15478</td><td>18</td><td>NULL</td></tr><tr><td>38584</td><td>78804</td><td>NULL</td><td>10026</td><td>18</td><td>NULL</td></tr><tr><td>38584</td><td>86159</td><td>NULL</td><td>245</td><td>18</td><td>NULL</td></tr><tr><td>38584</td><td>79364</td><td>NULL</td><td>5722</td><td>18</td><td>NULL</td></tr><tr><td>38584</td><td>86173</td><td>NULL</td><td>4495</td><td>18</td><td>NULL</td></tr><tr><td>38584</td><td>82380</td><td>NULL</td><td>17036</td><td>18</td><td>NULL</td></tr><tr><td>38584</td><td>37842</td><td>NULL</td><td>10401</td><td>18</td><td>NULL</td></tr><tr><td>38584</td><td>12063</td><td>NULL</td><td>5248</td><td>18</td><td>NULL</td></tr><tr><td>38584</td><td>68179</td><td>NULL</td><td>6310</td><td>18</td><td>NULL</td></tr><tr><td>38584</td><td>76441</td><td>NULL</td><td>2755</td><td>18</td><td>NULL</td></tr><tr><td>38584</td><td>8460</td><td>NULL</td><td>605</td><td>18</td><td>NULL</td></tr><tr><td>38584</td><td>51736</td><td>NULL</td><td>10991</td><td>18</td><td>NULL</td></tr><tr><td>38584</td><td>54535</td><td>NULL</td><td>14499</td><td>18</td><td>NULL</td></tr><tr><td>38584</td><td>55646</td><td>NULL</td><td>16968</td><td>18</td><td>NULL</td></tr><tr><td>38584</td><td>76280</td><td>NULL</td><td>1982</td><td>18</td><td>NULL</td></tr><tr><td>38584</td><td>85237</td><td>NULL</td><td>5316</td><td>18</td><td>NULL</td></tr><tr><td>38584</td><td>34979</td><td>NULL</td><td>12207</td><td>18</td><td>NULL</td></tr><tr><td>38584</td><td>36367</td><td>NULL</td><td>8592</td><td>18</td><td>NULL</td></tr><tr><td>38584</td><td>3823</td><td>NULL</td><td>8634</td><td>18</td><td>NULL</td></tr><tr><td>38585</td><td>54051</td><td>NULL</td><td>9176</td><td>18</td><td>NULL</td></tr><tr><td>38585</td><td>46219</td><td>NULL</td><td>16813</td><td>18</td><td>NULL</td></tr><tr><td>38585</td><td>5783</td><td>NULL</td><td>2678</td><td>18</td><td>NULL</td></tr></table>"
                    }
                }
            ],
            "execution_count": 16
        },
        {
            "cell_type": "markdown",
            "source": "![Scale Out Data mart](https://raw.githubusercontent.com/MasayukiOzawa/decode-2019-demo/master/Images/03.Data%20Store/02.Data%20Pool/Scale-out%20data%20mart%20select.png)",
            "metadata": {}
        }
    ]
}