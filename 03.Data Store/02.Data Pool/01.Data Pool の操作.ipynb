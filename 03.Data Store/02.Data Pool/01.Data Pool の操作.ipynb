{
    "metadata": {
        "kernelspec": {
            "name": "SQL",
            "display_name": "SQL",
            "language": "sql"
        },
        "language_info": {
            "name": "sql",
            "version": ""
        }
    },
    "nbformat_minor": 2,
    "nbformat": 4,
    "cells": [
        {
            "cell_type": "markdown",
            "source": "# Data pool の操作 ",
            "metadata": {}
        },
        {
            "cell_type": "markdown",
            "source": "## 1. スケールアウトテーブルの作成",
            "metadata": {}
        },
        {
            "cell_type": "code",
            "source": "USE [DataPool];\r\n\r\n-- オブジェクトの初期化\r\nIF EXISTS (SELECT * FROM sys.external_tables WHERE name = 'clickstream_datamart')\r\nBEGIN\r\n\tDROP EXTERNAL TABLE clickstream_datamart\r\nEND;\r\nGO",
            "metadata": {},
            "outputs": [
                {
                    "output_type": "display_data",
                    "data": {
                        "text/html": "Commands completed successfully."
                    },
                    "metadata": {}
                },
                {
                    "output_type": "display_data",
                    "data": {
                        "text/html": "Total execution time: 00:00:00.0168294"
                    },
                    "metadata": {}
                }
            ],
            "execution_count": 1
        },
        {
            "cell_type": "markdown",
            "source": "**1. Data Pool に、スケールアウトデータマート用のテーブルを作成**  \r\n本クエリにより、Data Pool 内の各 SQL Server にテーブルが作成される  \r\n(テーブル作成が Data Pool の各 SQL Server に伝搬されるまで多少のタイムラグがある)\r\n\r\n作成されたテーブルは列ストアインデックスが自動的に作成された状態となっている",
            "metadata": {}
        },
        {
            "cell_type": "code",
            "source": "USE [DataPool];\r\n\r\n-- テーブルの作成\r\nCREATE EXTERNAL TABLE [clickstream_datamart]\r\n(\r\n\twcs_click_date_sk BIGINT , \r\n\twcs_click_time_sk BIGINT , \r\n\twcs_sales_sk BIGINT , \r\n\twcs_item_sk BIGINT , \r\n\twcs_web_page_sk BIGINT , \r\n\twcs_user_sk BIGINT\r\n) \r\nWITH\r\n( \r\n\tDATA_SOURCE = SqlDataPool,\t\r\n\tDISTRIBUTION = ROUND_ROBIN\r\n);\r\nGO\r\nWAITFOR DELAY '00:00:10'",
            "metadata": {},
            "outputs": [
                {
                    "output_type": "display_data",
                    "data": {
                        "text/html": "Commands completed successfully."
                    },
                    "metadata": {}
                },
                {
                    "output_type": "display_data",
                    "data": {
                        "text/html": "Total execution time: 00:00:07.9955798"
                    },
                    "metadata": {}
                },
                {
                    "output_type": "display_data",
                    "data": {
                        "text/html": "Commands completed successfully."
                    },
                    "metadata": {}
                },
                {
                    "output_type": "display_data",
                    "data": {
                        "text/html": "Total execution time: 00:00:10.1368189"
                    },
                    "metadata": {}
                }
            ],
            "execution_count": 2
        },
        {
            "cell_type": "markdown",
            "source": "**2. リンクサーバー経由で確認**  \r\nMaster Instance に設定したリンクサーバー経由で、Data Pool 内の SQL Server の情報を確認",
            "metadata": {}
        },
        {
            "cell_type": "code",
            "source": "USE [DataPool];\r\n\r\nSELECT\r\n\t(SELECT name from [DATA-0-0.DATA-0-SVC.MSSQL-CLUSTER.SVC.CLUSTER.LOCAL].DataPool.sys.servers WHERE server_id = 0) AS server_name\r\n\t, o.name\r\n\t, i.name\r\n\t, i.type_desc\r\n\t, (SELECT COUNT(*) FROM [DATA-0-0.DATA-0-SVC.MSSQL-CLUSTER.SVC.CLUSTER.LOCAL].DataPool.dbo.clickstream_datamart) AS count\r\nFROM\r\n\t[DATA-0-0.DATA-0-SVC.MSSQL-CLUSTER.SVC.CLUSTER.LOCAL].DataPool.sys.indexes AS i\r\n\tLEFT JOIN \r\n\t[DATA-0-0.DATA-0-SVC.MSSQL-CLUSTER.SVC.CLUSTER.LOCAL].DataPool.sys.objects AS o\r\n\tON i.object_id = o.object_id\r\nWHERE\r\n\to.name = 'clickstream_datamart'\r\nUNION\r\nSELECT\r\n\t(SELECT name from [DATA-0-1.DATA-0-SVC.MSSQL-CLUSTER.SVC.CLUSTER.LOCAL].DataPool.sys.servers WHERE server_id = 0) AS server_name\r\n\t, o.name\r\n\t, i.name\r\n\t, i.type_desc\r\n\t, (SELECT COUNT(*) FROM [DATA-0-1.DATA-0-SVC.MSSQL-CLUSTER.SVC.CLUSTER.LOCAL].DataPool.dbo.clickstream_datamart) AS count\r\nFROM\r\n\t[DATA-0-1.DATA-0-SVC.MSSQL-CLUSTER.SVC.CLUSTER.LOCAL].DataPool.sys.indexes AS i\r\n\tLEFT JOIN \r\n\t[DATA-0-1.DATA-0-SVC.MSSQL-CLUSTER.SVC.CLUSTER.LOCAL].DataPool.sys.objects AS o\r\n\tON i.object_id = o.object_id\r\nWHERE\r\n\to.name = 'clickstream_datamart'\r\nGO",
            "metadata": {},
            "outputs": [
                {
                    "output_type": "display_data",
                    "data": {
                        "text/html": "(2 rows affected)"
                    },
                    "metadata": {}
                },
                {
                    "output_type": "display_data",
                    "data": {
                        "text/html": "Total execution time: 00:00:02.2784387"
                    },
                    "metadata": {}
                },
                {
                    "output_type": "execute_result",
                    "metadata": {},
                    "execution_count": 3,
                    "data": {
                        "application/vnd.dataresource+json": {
                            "schema": {
                                "fields": [
                                    {
                                        "name": "server_name"
                                    },
                                    {
                                        "name": "name"
                                    },
                                    {
                                        "name": "name"
                                    },
                                    {
                                        "name": "type_desc"
                                    },
                                    {
                                        "name": "count"
                                    }
                                ]
                            },
                            "data": [
                                {
                                    "0": "data-0-0",
                                    "1": "clickstream_datamart",
                                    "2": "cci",
                                    "3": "CLUSTERED COLUMNSTORE",
                                    "4": "0"
                                },
                                {
                                    "0": "data-0-1",
                                    "1": "clickstream_datamart",
                                    "2": "cci",
                                    "3": "CLUSTERED COLUMNSTORE",
                                    "4": "0"
                                }
                            ]
                        },
                        "text/html": "<table><tr><th>server_name</th><th>name</th><th>name</th><th>type_desc</th><th>count</th></tr><tr><td>data-0-0</td><td>clickstream_datamart</td><td>cci</td><td>CLUSTERED COLUMNSTORE</td><td>0</td></tr><tr><td>data-0-1</td><td>clickstream_datamart</td><td>cci</td><td>CLUSTERED COLUMNSTORE</td><td>0</td></tr></table>"
                    }
                }
            ],
            "execution_count": 3
        },
        {
            "cell_type": "markdown",
            "source": "![Linked Server](https://github.com/MasayukiOzawa/decode-2019-demo/raw/master/Images/03.Data%20Store/02.Data%20Pool/Data%20Pool%20Database%20object.png)",
            "metadata": {}
        },
        {
            "cell_type": "markdown",
            "source": "## 2. スケールアウトデータマートにデータの投入",
            "metadata": {}
        },
        {
            "cell_type": "markdown",
            "source": "**1. データ投入**  \r\nINSERTO SELECT でスケールアウトデータマートのテーブルを指定することで、データマートにデータを投入することができる。  ",
            "metadata": {}
        },
        {
            "cell_type": "code",
            "source": "USE [DataPool];\r\nINSERT INTO clickstream_datamart\r\nSELECT * FROM StoragePool..StoragePoolTBL\r\n-- SELECT * FROM StoragePool..StoragePoolADLTBL\r\n-- SELECT * FROM StoragePool..StoragePoolS3TBL",
            "metadata": {},
            "outputs": [
                {
                    "output_type": "display_data",
                    "data": {
                        "text/html": "(1497 rows affected)"
                    },
                    "metadata": {}
                },
                {
                    "output_type": "display_data",
                    "data": {
                        "text/html": "Total execution time: 00:00:05.6709408"
                    },
                    "metadata": {}
                }
            ],
            "execution_count": 4
        },
        {
            "cell_type": "markdown",
            "source": "**2. 投入されたデータの確認**  \r\nリンクサーバー経由で投入されたデータの状況を確認",
            "metadata": {}
        },
        {
            "cell_type": "code",
            "source": "USE [DataPool];\r\n\r\nSELECT\r\n\t(SELECT name from [DATA-0-0.DATA-0-SVC.MSSQL-CLUSTER.SVC.CLUSTER.LOCAL].DataPool.sys.servers WHERE server_id = 0) AS server_name\r\n\t, o.name\r\n\t, i.name\r\n\t, i.type_desc\r\n\t, (SELECT COUNT(*) FROM [DATA-0-0.DATA-0-SVC.MSSQL-CLUSTER.SVC.CLUSTER.LOCAL].DataPool.dbo.clickstream_datamart) AS count\r\nFROM\r\n\t[DATA-0-0.DATA-0-SVC.MSSQL-CLUSTER.SVC.CLUSTER.LOCAL].DataPool.sys.indexes AS i\r\n\tLEFT JOIN \r\n\t[DATA-0-0.DATA-0-SVC.MSSQL-CLUSTER.SVC.CLUSTER.LOCAL].DataPool.sys.objects AS o\r\n\tON i.object_id = o.object_id\r\nWHERE\r\n\to.name = 'clickstream_datamart'\r\nUNION\r\nSELECT\r\n\t(SELECT name from [DATA-0-1.DATA-0-SVC.MSSQL-CLUSTER.SVC.CLUSTER.LOCAL].DataPool.sys.servers WHERE server_id = 0) AS server_name\r\n\t, o.name\r\n\t, i.name\r\n\t, i.type_desc\r\n\t, (SELECT COUNT(*) FROM [DATA-0-1.DATA-0-SVC.MSSQL-CLUSTER.SVC.CLUSTER.LOCAL].DataPool.dbo.clickstream_datamart) AS count\r\nFROM\r\n\t[DATA-0-1.DATA-0-SVC.MSSQL-CLUSTER.SVC.CLUSTER.LOCAL].DataPool.sys.indexes AS i\r\n\tLEFT JOIN \r\n\t[DATA-0-1.DATA-0-SVC.MSSQL-CLUSTER.SVC.CLUSTER.LOCAL].DataPool.sys.objects AS o\r\n\tON i.object_id = o.object_id\r\nWHERE\r\n\to.name = 'clickstream_datamart'\r\nGO",
            "metadata": {},
            "outputs": [
                {
                    "output_type": "display_data",
                    "data": {
                        "text/html": "(2 rows affected)"
                    },
                    "metadata": {}
                },
                {
                    "output_type": "display_data",
                    "data": {
                        "text/html": "Total execution time: 00:00:00.1899467"
                    },
                    "metadata": {}
                },
                {
                    "output_type": "execute_result",
                    "metadata": {},
                    "execution_count": 5,
                    "data": {
                        "application/vnd.dataresource+json": {
                            "schema": {
                                "fields": [
                                    {
                                        "name": "server_name"
                                    },
                                    {
                                        "name": "name"
                                    },
                                    {
                                        "name": "name"
                                    },
                                    {
                                        "name": "type_desc"
                                    },
                                    {
                                        "name": "count"
                                    }
                                ]
                            },
                            "data": [
                                {
                                    "0": "data-0-0",
                                    "1": "clickstream_datamart",
                                    "2": "cci",
                                    "3": "CLUSTERED COLUMNSTORE",
                                    "4": "499"
                                },
                                {
                                    "0": "data-0-1",
                                    "1": "clickstream_datamart",
                                    "2": "cci",
                                    "3": "CLUSTERED COLUMNSTORE",
                                    "4": "998"
                                }
                            ]
                        },
                        "text/html": "<table><tr><th>server_name</th><th>name</th><th>name</th><th>type_desc</th><th>count</th></tr><tr><td>data-0-0</td><td>clickstream_datamart</td><td>cci</td><td>CLUSTERED COLUMNSTORE</td><td>499</td></tr><tr><td>data-0-1</td><td>clickstream_datamart</td><td>cci</td><td>CLUSTERED COLUMNSTORE</td><td>998</td></tr></table>"
                    }
                }
            ],
            "execution_count": 5
        },
        {
            "cell_type": "markdown",
            "source": "**3. スケールアウトデータマーのデータ検索**  \r\nスケールアウトデータマートに投入されているデータは、Master Instance からデータを取得することができる。",
            "metadata": {}
        },
        {
            "cell_type": "code",
            "source": "USE [DataPool];\r\n\r\nSELECT TOP 25 * FROM clickstream_datamart",
            "metadata": {},
            "outputs": [
                {
                    "output_type": "display_data",
                    "data": {
                        "text/html": "(25 rows affected)"
                    },
                    "metadata": {}
                },
                {
                    "output_type": "display_data",
                    "data": {
                        "text/html": "Total execution time: 00:00:03.5009633"
                    },
                    "metadata": {}
                },
                {
                    "output_type": "execute_result",
                    "metadata": {},
                    "execution_count": 6,
                    "data": {
                        "application/vnd.dataresource+json": {
                            "schema": {
                                "fields": [
                                    {
                                        "name": "wcs_click_date_sk"
                                    },
                                    {
                                        "name": "wcs_click_time_sk"
                                    },
                                    {
                                        "name": "wcs_sales_sk"
                                    },
                                    {
                                        "name": "wcs_item_sk"
                                    },
                                    {
                                        "name": "wcs_web_page_sk"
                                    },
                                    {
                                        "name": "wcs_user_sk"
                                    }
                                ]
                            },
                            "data": [
                                {
                                    "0": "38569",
                                    "1": "4250",
                                    "2": "NULL",
                                    "3": "7840",
                                    "4": "18",
                                    "5": "NULL"
                                },
                                {
                                    "0": "38569",
                                    "1": "85106",
                                    "2": "NULL",
                                    "3": "11130",
                                    "4": "18",
                                    "5": "NULL"
                                },
                                {
                                    "0": "38569",
                                    "1": "52655",
                                    "2": "NULL",
                                    "3": "3716",
                                    "4": "18",
                                    "5": "NULL"
                                },
                                {
                                    "0": "38569",
                                    "1": "70934",
                                    "2": "NULL",
                                    "3": "13243",
                                    "4": "18",
                                    "5": "NULL"
                                },
                                {
                                    "0": "38569",
                                    "1": "40166",
                                    "2": "NULL",
                                    "3": "5389",
                                    "4": "18",
                                    "5": "NULL"
                                },
                                {
                                    "0": "38570",
                                    "1": "73271",
                                    "2": "NULL",
                                    "3": "3331",
                                    "4": "18",
                                    "5": "NULL"
                                },
                                {
                                    "0": "38570",
                                    "1": "24651",
                                    "2": "NULL",
                                    "3": "10049",
                                    "4": "18",
                                    "5": "NULL"
                                },
                                {
                                    "0": "38570",
                                    "1": "23805",
                                    "2": "NULL",
                                    "3": "921",
                                    "4": "18",
                                    "5": "NULL"
                                },
                                {
                                    "0": "38570",
                                    "1": "66458",
                                    "2": "NULL",
                                    "3": "4407",
                                    "4": "18",
                                    "5": "NULL"
                                },
                                {
                                    "0": "38570",
                                    "1": "65912",
                                    "2": "NULL",
                                    "3": "11494",
                                    "4": "18",
                                    "5": "NULL"
                                },
                                {
                                    "0": "38570",
                                    "1": "80073",
                                    "2": "NULL",
                                    "3": "1833",
                                    "4": "18",
                                    "5": "NULL"
                                },
                                {
                                    "0": "38570",
                                    "1": "9522",
                                    "2": "NULL",
                                    "3": "17636",
                                    "4": "18",
                                    "5": "NULL"
                                },
                                {
                                    "0": "38570",
                                    "1": "22779",
                                    "2": "NULL",
                                    "3": "9063",
                                    "4": "18",
                                    "5": "NULL"
                                },
                                {
                                    "0": "38570",
                                    "1": "43276",
                                    "2": "NULL",
                                    "3": "8696",
                                    "4": "18",
                                    "5": "NULL"
                                },
                                {
                                    "0": "38570",
                                    "1": "18021",
                                    "2": "NULL",
                                    "3": "3231",
                                    "4": "18",
                                    "5": "NULL"
                                },
                                {
                                    "0": "38570",
                                    "1": "37963",
                                    "2": "NULL",
                                    "3": "17050",
                                    "4": "18",
                                    "5": "NULL"
                                },
                                {
                                    "0": "38570",
                                    "1": "49125",
                                    "2": "NULL",
                                    "3": "9044",
                                    "4": "18",
                                    "5": "NULL"
                                },
                                {
                                    "0": "38570",
                                    "1": "69824",
                                    "2": "NULL",
                                    "3": "3255",
                                    "4": "18",
                                    "5": "NULL"
                                },
                                {
                                    "0": "38570",
                                    "1": "10028",
                                    "2": "NULL",
                                    "3": "1355",
                                    "4": "18",
                                    "5": "NULL"
                                },
                                {
                                    "0": "38570",
                                    "1": "6749",
                                    "2": "NULL",
                                    "3": "16880",
                                    "4": "18",
                                    "5": "NULL"
                                },
                                {
                                    "0": "38570",
                                    "1": "11109",
                                    "2": "NULL",
                                    "3": "8200",
                                    "4": "18",
                                    "5": "NULL"
                                },
                                {
                                    "0": "38570",
                                    "1": "26098",
                                    "2": "NULL",
                                    "3": "8862",
                                    "4": "18",
                                    "5": "NULL"
                                },
                                {
                                    "0": "38570",
                                    "1": "67236",
                                    "2": "NULL",
                                    "3": "322",
                                    "4": "18",
                                    "5": "NULL"
                                },
                                {
                                    "0": "38570",
                                    "1": "73267",
                                    "2": "NULL",
                                    "3": "16552",
                                    "4": "18",
                                    "5": "NULL"
                                },
                                {
                                    "0": "38570",
                                    "1": "13880",
                                    "2": "NULL",
                                    "3": "8774",
                                    "4": "18",
                                    "5": "NULL"
                                }
                            ]
                        },
                        "text/html": "<table><tr><th>wcs_click_date_sk</th><th>wcs_click_time_sk</th><th>wcs_sales_sk</th><th>wcs_item_sk</th><th>wcs_web_page_sk</th><th>wcs_user_sk</th></tr><tr><td>38569</td><td>4250</td><td>NULL</td><td>7840</td><td>18</td><td>NULL</td></tr><tr><td>38569</td><td>85106</td><td>NULL</td><td>11130</td><td>18</td><td>NULL</td></tr><tr><td>38569</td><td>52655</td><td>NULL</td><td>3716</td><td>18</td><td>NULL</td></tr><tr><td>38569</td><td>70934</td><td>NULL</td><td>13243</td><td>18</td><td>NULL</td></tr><tr><td>38569</td><td>40166</td><td>NULL</td><td>5389</td><td>18</td><td>NULL</td></tr><tr><td>38570</td><td>73271</td><td>NULL</td><td>3331</td><td>18</td><td>NULL</td></tr><tr><td>38570</td><td>24651</td><td>NULL</td><td>10049</td><td>18</td><td>NULL</td></tr><tr><td>38570</td><td>23805</td><td>NULL</td><td>921</td><td>18</td><td>NULL</td></tr><tr><td>38570</td><td>66458</td><td>NULL</td><td>4407</td><td>18</td><td>NULL</td></tr><tr><td>38570</td><td>65912</td><td>NULL</td><td>11494</td><td>18</td><td>NULL</td></tr><tr><td>38570</td><td>80073</td><td>NULL</td><td>1833</td><td>18</td><td>NULL</td></tr><tr><td>38570</td><td>9522</td><td>NULL</td><td>17636</td><td>18</td><td>NULL</td></tr><tr><td>38570</td><td>22779</td><td>NULL</td><td>9063</td><td>18</td><td>NULL</td></tr><tr><td>38570</td><td>43276</td><td>NULL</td><td>8696</td><td>18</td><td>NULL</td></tr><tr><td>38570</td><td>18021</td><td>NULL</td><td>3231</td><td>18</td><td>NULL</td></tr><tr><td>38570</td><td>37963</td><td>NULL</td><td>17050</td><td>18</td><td>NULL</td></tr><tr><td>38570</td><td>49125</td><td>NULL</td><td>9044</td><td>18</td><td>NULL</td></tr><tr><td>38570</td><td>69824</td><td>NULL</td><td>3255</td><td>18</td><td>NULL</td></tr><tr><td>38570</td><td>10028</td><td>NULL</td><td>1355</td><td>18</td><td>NULL</td></tr><tr><td>38570</td><td>6749</td><td>NULL</td><td>16880</td><td>18</td><td>NULL</td></tr><tr><td>38570</td><td>11109</td><td>NULL</td><td>8200</td><td>18</td><td>NULL</td></tr><tr><td>38570</td><td>26098</td><td>NULL</td><td>8862</td><td>18</td><td>NULL</td></tr><tr><td>38570</td><td>67236</td><td>NULL</td><td>322</td><td>18</td><td>NULL</td></tr><tr><td>38570</td><td>73267</td><td>NULL</td><td>16552</td><td>18</td><td>NULL</td></tr><tr><td>38570</td><td>13880</td><td>NULL</td><td>8774</td><td>18</td><td>NULL</td></tr></table>"
                    }
                }
            ],
            "execution_count": 6
        },
        {
            "cell_type": "markdown",
            "source": "![Scale Out Data mart](https://raw.githubusercontent.com/MasayukiOzawa/decode-2019-demo/master/Images/03.Data%20Store/02.Data%20Pool/Scale-out%20data%20mart%20select.png)",
            "metadata": {}
        }
    ]
}