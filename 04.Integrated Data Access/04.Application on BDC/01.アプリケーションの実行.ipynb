{
    "metadata": {
        "kernelspec": {
            "name": "SQL",
            "display_name": "SQL",
            "language": "sql"
        },
        "language_info": {
            "name": "sql",
            "version": ""
        }
    },
    "nbformat_minor": 2,
    "nbformat": 4,
    "cells": [
        {
            "cell_type": "markdown",
            "source": "# アプリケーションの実行\r\n\r\nBDC には、Python / R / SSIS / MLEAP をアプリケーションとして展開することができる\r\n",
            "metadata": {}
        },
        {
            "cell_type": "markdown",
            "source": "## 1. テンプレートからアプリケーションをデプロイ\r\n**1. BDC に接続**  \r\n1. 接続先の IP を確認\r\n```\r\nkubectl get service -n mssql-cluster | findstr \"30777\"\r\n```\r\n**2. アプリケーションテンプレートの作成**  \r\n1. C:\\Users\\decodeadmin\\Desktop\\Demo\\04.Integrated Data Access\\04.Application on BDC\\bdc-app を開く\r\n1. アプリケーションテンプレートとして　Python / R / SSIS / MLeap が用意されている  \r\n![BDC Application Template](https://raw.githubusercontent.com/MasayukiOzawa/decode-2019-demo/master/Images/04.Integrated%20Data%20Access/04.Application%20on%20BDC/Application%20Template.png)\r\n\r\n\r\n**3. サンプルアプリケーションのデプロイ**\r\n1. spec.yaml をデプロイ\r\n1. BDC にアプリが展開されたことを確認  \r\n![BDC App](https://raw.githubusercontent.com/MasayukiOzawa/decode-2019-demo/master/Images/04.Integrated%20Data%20Access/04.Application%20on%20BDC/BDC%20App%20Explorer.png)\r\n1. [Swagger](https://editor.swagger.io/#) の利用  \r\n![Swagger](https://github.com/MasayukiOzawa/decode-2019-demo/raw/master/Images/04.Integrated%20Data%20Access/04.Application%20on%20BDC/Swagger.png)\r\n",
            "metadata": {}
        },
        {
            "cell_type": "markdown",
            "source": "## 2. アプリケーションの実行\r\n1. run.yaml を使用してアプリケーションを実行  \r\n![Run App](https://github.com/MasayukiOzawa/decode-2019-demo/raw/master/Images/04.Integrated%20Data%20Access/04.Application%20on%20BDC/Run%20App.png)\r\n1. コードから実行\r\n```\r\nmssqlctl login -e $(\"https://{0}\" -f $ENV:MGMTPROXY_ENDPOINT) -u $ENV:MGMTPROXY_LOGIN -p $ENV:MGMTPROXY_LOGIN_PASSWORD\r\n$ret = mssqlctl app describe --name add-app --version v1\r\n\r\n$BDCServer = ($ret | ConvertFrom-Json).links.app\r\n$User = $env:MGMTPROXY_LOGIN\r\n$Password = $env:MGMTPROXY_LOGIN_PASSWORD\r\n\r\n\r\nAdd-type @\"\r\n    using System.Net;\r\n    using System.Security.Cryptography.X509Certificates;\r\n    public class TrustAllCertsPolicy : ICertificatePolicy {\r\n        public bool CheckValidationResult(\r\n            ServicePoint srvPoint, X509Certificate certificate,\r\n            WebRequest request, int certificateProblem) {\r\n            return true;\r\n        }\r\n    }\r\n\"@\r\n[System.Net.ServicePointManager]::CertificatePolicy = New-Object TrustAllCertsPolicy\r\n[Net.ServicePointManager]::SecurityProtocol = [Net.SecurityProtocolType]::Ssl3, [Net.SecurityProtocolType]::Tls, [Net.SecurityProtocolType]::Tls11, [Net.SecurityProtocolType]::Tls12\r\n\r\n$cred = New-Object System.Management.Automation.PSCredential($User, (ConvertTo-SecureString -String $Password -AsPlainText -Force))\r\n\r\n$body = @{\r\n    x =100\r\n    y= 20\r\n}\r\n$hader = @{\r\n  \"content-type\" = 'application/json';\r\n}\r\n\r\n\r\n$ret = Invoke-WebRequest -Uri \"${BDCServer}/run\" -Method Post -Credential $cred `\r\n-Headers $hader `\r\n-Body ($body | ConvertTo-Json)\r\n\r\n$ret.Content | ConvertFrom-Json\r\n```\r\n![Shell](https://github.com/MasayukiOzawa/decode-2019-demo/raw/master/Images/04.Integrated%20Data%20Access/04.Application%20on%20BDC/Run%20App%20Shell.png)\r\n",
            "metadata": {}
        }
    ]
}