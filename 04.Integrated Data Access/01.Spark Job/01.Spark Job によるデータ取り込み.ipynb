{
    "metadata": {
        "kernelspec": {
            "name": "SQL",
            "display_name": "SQL",
            "language": "sql"
        },
        "language_info": {
            "name": "sql",
            "version": ""
        }
    },
    "nbformat_minor": 2,
    "nbformat": 4,
    "cells": [
        {
            "cell_type": "markdown",
            "source": "# Spark Job によるデータ取り込み",
            "metadata": {}
        },
        {
            "cell_type": "markdown",
            "source": "## 1. データマートに取り込み先のテーブルを作成\r\n",
            "metadata": {}
        },
        {
            "cell_type": "markdown",
            "source": "**1. ストリーミングデータの格納用テーブルの作成**",
            "metadata": {}
        },
        {
            "cell_type": "code",
            "source": "USE [DataPool];\r\n\r\n-- オブジェクトの初期化\r\nIF EXISTS (SELECT * FROM sys.external_tables WHERE name = 'web_clickstreams_spark_results')\r\nBEGIN\r\n\tDROP EXTERNAL TABLE web_clickstreams_spark_results\r\nEND;\r\nGO",
            "metadata": {},
            "outputs": [
                {
                    "output_type": "display_data",
                    "data": {
                        "text/html": "Commands completed successfully."
                    },
                    "metadata": {}
                },
                {
                    "output_type": "display_data",
                    "data": {
                        "text/html": "Total execution time: 00:00:00.6390123"
                    },
                    "metadata": {}
                }
            ],
            "execution_count": 3
        },
        {
            "cell_type": "code",
            "source": "USE [DataPool];\r\n\r\nCREATE EXTERNAL TABLE [web_clickstreams_spark_results]\r\n(\r\n\twcs_click_date_sk BIGINT , \r\n\twcs_click_time_sk BIGINT , \r\n\twcs_sales_sk BIGINT , \r\n\twcs_item_sk BIGINT , \r\n\twcs_web_page_sk BIGINT , \r\n\twcs_user_sk BIGINT)\r\nWITH\r\n(\r\n    DATA_SOURCE = SqlDataPool,\r\n    DISTRIBUTION = ROUND_ROBIN\r\n);\r\n",
            "metadata": {},
            "outputs": [
                {
                    "output_type": "display_data",
                    "data": {
                        "text/html": "Commands completed successfully."
                    },
                    "metadata": {}
                },
                {
                    "output_type": "display_data",
                    "data": {
                        "text/html": "Total execution time: 00:00:00.6855364"
                    },
                    "metadata": {}
                }
            ],
            "execution_count": 4
        },
        {
            "cell_type": "markdown",
            "source": "**2. データプールの SQL Server にテーブルが作成されたことを確認**",
            "metadata": {}
        },
        {
            "cell_type": "code",
            "source": "USE [DataPool];\r\n\r\nSELECT\r\n\t(SELECT name from [DATA-0-0.DATA-0-SVC.MSSQL-CLUSTER.SVC.CLUSTER.LOCAL].DataPool.sys.servers WHERE server_id = 0) AS server_name\r\n\t, o.name\r\n\t, i.name\r\n\t, i.type_desc\r\n\t, (SELECT COUNT(*) FROM [DATA-0-0.DATA-0-SVC.MSSQL-CLUSTER.SVC.CLUSTER.LOCAL].DataPool.dbo.web_clickstreams_spark_results) AS count\r\nFROM\r\n\t[DATA-0-0.DATA-0-SVC.MSSQL-CLUSTER.SVC.CLUSTER.LOCAL].DataPool.sys.indexes AS i\r\n\tLEFT JOIN \r\n\t[DATA-0-0.DATA-0-SVC.MSSQL-CLUSTER.SVC.CLUSTER.LOCAL].DataPool.sys.objects AS o\r\n\tON i.object_id = o.object_id\r\nWHERE\r\n\to.name = 'web_clickstreams_spark_results'\r\nUNION\r\nSELECT\r\n\t(SELECT name from [DATA-0-1.DATA-0-SVC.MSSQL-CLUSTER.SVC.CLUSTER.LOCAL].DataPool.sys.servers WHERE server_id = 0) AS server_name\r\n\t, o.name\r\n\t, i.name\r\n\t, i.type_desc\r\n\t, (SELECT COUNT(*) FROM [DATA-0-1.DATA-0-SVC.MSSQL-CLUSTER.SVC.CLUSTER.LOCAL].DataPool.dbo.web_clickstreams_spark_results) AS count\r\nFROM\r\n\t[DATA-0-1.DATA-0-SVC.MSSQL-CLUSTER.SVC.CLUSTER.LOCAL].DataPool.sys.indexes AS i\r\n\tLEFT JOIN \r\n\t[DATA-0-1.DATA-0-SVC.MSSQL-CLUSTER.SVC.CLUSTER.LOCAL].DataPool.sys.objects AS o\r\n\tON i.object_id = o.object_id\r\nWHERE\r\n\to.name = 'web_clickstreams_spark_results'\r\nGO",
            "metadata": {},
            "outputs": [
                {
                    "output_type": "display_data",
                    "data": {
                        "text/html": "(2 rows affected)"
                    },
                    "metadata": {}
                },
                {
                    "output_type": "display_data",
                    "data": {
                        "text/html": "Total execution time: 00:00:00.2187297"
                    },
                    "metadata": {}
                },
                {
                    "output_type": "execute_result",
                    "metadata": {},
                    "execution_count": 5,
                    "data": {
                        "application/vnd.dataresource+json": {
                            "schema": {
                                "fields": [
                                    {
                                        "name": "server_name"
                                    },
                                    {
                                        "name": "name"
                                    },
                                    {
                                        "name": "name"
                                    },
                                    {
                                        "name": "type_desc"
                                    },
                                    {
                                        "name": "count"
                                    }
                                ]
                            },
                            "data": [
                                {
                                    "0": "data-0-0",
                                    "1": "web_clickstreams_spark_results",
                                    "2": "cci",
                                    "3": "CLUSTERED COLUMNSTORE",
                                    "4": "0"
                                },
                                {
                                    "0": "data-0-1",
                                    "1": "web_clickstreams_spark_results",
                                    "2": "cci",
                                    "3": "CLUSTERED COLUMNSTORE",
                                    "4": "0"
                                }
                            ]
                        },
                        "text/html": "<table><tr><th>server_name</th><th>name</th><th>name</th><th>type_desc</th><th>count</th></tr><tr><td>data-0-0</td><td>web_clickstreams_spark_results</td><td>cci</td><td>CLUSTERED COLUMNSTORE</td><td>0</td></tr><tr><td>data-0-1</td><td>web_clickstreams_spark_results</td><td>cci</td><td>CLUSTERED COLUMNSTORE</td><td>0</td></tr></table>"
                    }
                }
            ],
            "execution_count": 5
        },
        {
            "cell_type": "markdown",
            "source": "## 2. Spark Job のサブミット\r\nAzure Data Studio で次の操作を実行し、Spark Job によるデータ取り込みを実行\r\n\r\n\r\n1. HDFS 上の jar/mssql-spark-lib/assembly-1.0.jar を右クリックして、Submit spark job を選択\r\n1. 次の設定でジョブを実行\r\n```\r\n    Main class: FileStreaming\r\n    Arguments : \r\n\t--server master-0.master-svc --port 1433 --user sa --password P@ssw0rd --database DataPool --table web_clickstreams_spark_results --source_dir hdfs:///clickstream_data --input_format csv --enable_checkpoint false\r\n```\r\n3. Output の History Url と Yarn UI から情報を確認  \r\n![yarn](https://github.com/MasayukiOzawa/decode-2019-demo/raw/master/Images/04.Integrated%20Data%20Access/01.Spark%20Job/Yarn.png)  \r\n![Spark Job](https://github.com/MasayukiOzawa/decode-2019-demo/raw/master/Images/04.Integrated%20Data%20Access/01.Spark%20Job/Spark%20Job.png)\r\n\r\n## 3. ジョブの停止\r\n```\r\nkubectl exec -n mssql-cluster -it master-0 -c hadoop /bin/bash\r\nyarn application -list\r\nyarn application -kill application_\r\n```\r\n",
            "metadata": {}
        },
        {
            "cell_type": "markdown",
            "source": "## 4. データの確認",
            "metadata": {}
        },
        {
            "cell_type": "markdown",
            "source": "**1. クエリによるデータの確認**",
            "metadata": {}
        },
        {
            "cell_type": "code",
            "source": "USE [DataPool];\r\n\r\nSELECT COUNT(*) FROM [web_clickstreams_spark_results]",
            "metadata": {},
            "outputs": [
                {
                    "output_type": "display_data",
                    "data": {
                        "text/html": "(1 row affected)"
                    },
                    "metadata": {}
                },
                {
                    "output_type": "display_data",
                    "data": {
                        "text/html": "Total execution time: 00:00:01.9840252"
                    },
                    "metadata": {}
                },
                {
                    "output_type": "execute_result",
                    "metadata": {},
                    "execution_count": 8,
                    "data": {
                        "application/vnd.dataresource+json": {
                            "schema": {
                                "fields": [
                                    {
                                        "name": "(No column name)"
                                    }
                                ]
                            },
                            "data": [
                                {
                                    "0": "998"
                                }
                            ]
                        },
                        "text/html": "<table><tr><th>(No column name)</th></tr><tr><td>998</td></tr></table>"
                    }
                }
            ],
            "execution_count": 8
        },
        {
            "cell_type": "markdown",
            "source": "**2. データプールのデータ取り込み状況の確認**",
            "metadata": {}
        },
        {
            "cell_type": "code",
            "source": "USE [DataPool];\r\n\r\nSELECT\r\n\t(SELECT name from [DATA-0-0.DATA-0-SVC.MSSQL-CLUSTER.SVC.CLUSTER.LOCAL].DataPool.sys.servers WHERE server_id = 0) AS server_name\r\n\t, o.name\r\n\t, i.name\r\n\t, i.type_desc\r\n\t, (SELECT COUNT(*) FROM [DATA-0-0.DATA-0-SVC.MSSQL-CLUSTER.SVC.CLUSTER.LOCAL].DataPool.dbo.web_clickstreams_spark_results) AS count\r\nFROM\r\n\t[DATA-0-0.DATA-0-SVC.MSSQL-CLUSTER.SVC.CLUSTER.LOCAL].DataPool.sys.indexes AS i\r\n\tLEFT JOIN \r\n\t[DATA-0-0.DATA-0-SVC.MSSQL-CLUSTER.SVC.CLUSTER.LOCAL].DataPool.sys.objects AS o\r\n\tON i.object_id = o.object_id\r\nWHERE\r\n\to.name = 'web_clickstreams_spark_results'\r\nUNION\r\nSELECT\r\n\t(SELECT name from [DATA-0-1.DATA-0-SVC.MSSQL-CLUSTER.SVC.CLUSTER.LOCAL].DataPool.sys.servers WHERE server_id = 0) AS server_name\r\n\t, o.name\r\n\t, i.name\r\n\t, i.type_desc\r\n\t, (SELECT COUNT(*) FROM [DATA-0-1.DATA-0-SVC.MSSQL-CLUSTER.SVC.CLUSTER.LOCAL].DataPool.dbo.web_clickstreams_spark_results) AS count\r\nFROM\r\n\t[DATA-0-1.DATA-0-SVC.MSSQL-CLUSTER.SVC.CLUSTER.LOCAL].DataPool.sys.indexes AS i\r\n\tLEFT JOIN \r\n\t[DATA-0-1.DATA-0-SVC.MSSQL-CLUSTER.SVC.CLUSTER.LOCAL].DataPool.sys.objects AS o\r\n\tON i.object_id = o.object_id\r\nWHERE\r\n\to.name = 'web_clickstreams_spark_results'\r\nGO",
            "metadata": {},
            "outputs": [
                {
                    "output_type": "display_data",
                    "data": {
                        "text/html": "(2 rows affected)"
                    },
                    "metadata": {}
                },
                {
                    "output_type": "display_data",
                    "data": {
                        "text/html": "Total execution time: 00:00:01.9278684"
                    },
                    "metadata": {}
                },
                {
                    "output_type": "execute_result",
                    "metadata": {},
                    "execution_count": 9,
                    "data": {
                        "application/vnd.dataresource+json": {
                            "schema": {
                                "fields": [
                                    {
                                        "name": "server_name"
                                    },
                                    {
                                        "name": "name"
                                    },
                                    {
                                        "name": "name"
                                    },
                                    {
                                        "name": "type_desc"
                                    },
                                    {
                                        "name": "count"
                                    }
                                ]
                            },
                            "data": [
                                {
                                    "0": "data-0-0",
                                    "1": "web_clickstreams_spark_results",
                                    "2": "cci",
                                    "3": "CLUSTERED COLUMNSTORE",
                                    "4": "1497"
                                },
                                {
                                    "0": "data-0-1",
                                    "1": "web_clickstreams_spark_results",
                                    "2": "cci",
                                    "3": "CLUSTERED COLUMNSTORE",
                                    "4": "499"
                                }
                            ]
                        },
                        "text/html": "<table><tr><th>server_name</th><th>name</th><th>name</th><th>type_desc</th><th>count</th></tr><tr><td>data-0-0</td><td>web_clickstreams_spark_results</td><td>cci</td><td>CLUSTERED COLUMNSTORE</td><td>1497</td></tr><tr><td>data-0-1</td><td>web_clickstreams_spark_results</td><td>cci</td><td>CLUSTERED COLUMNSTORE</td><td>499</td></tr></table>"
                    }
                }
            ],
            "execution_count": 9
        }
    ]
}