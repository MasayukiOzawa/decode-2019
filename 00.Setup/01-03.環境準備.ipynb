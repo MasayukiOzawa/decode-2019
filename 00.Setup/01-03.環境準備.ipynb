{
    "metadata": {
        "kernelspec": {
            "name": "SQL",
            "display_name": "SQL",
            "language": "sql"
        },
        "language_info": {
            "name": "sql",
            "version": ""
        }
    },
    "nbformat_minor": 2,
    "nbformat": 4,
    "cells": [
        {
            "cell_type": "markdown",
            "source": "# Big Data Cluster の環境準備",
            "metadata": {}
        },
        {
            "cell_type": "markdown",
            "source": "## 1. BDC への接続\r\n1. IP の確認\r\n```\r\nkubectl get service -n mssql-cluster | findstr \"31433\"\r\n```\r\n2. Azure Data Sutdio で接続  \r\n3. デモ用ディレクトリを開く",
            "metadata": {}
        },
        {
            "cell_type": "markdown",
            "source": "## 2. HDFS の環境準備\r\n1. HDFS に clickstream_data ディレクトリを作成  \r\n  \r\n```\r\n$KNOX_ENDPOINT = $ENV:KNOX_ENDPOINT # KNOX Endpoint (xxx.xxx.xxx.xxx:30443)\r\n$KNOX_USER = \"root\"\r\n$KNOX_PASSWORD = $ENV:KNOX_PASSWORD\r\n$KNOX_PASSWORD = ConvertTo-SecureString -String $KNOX_PASSWORD -AsPlainText -Force\r\n\r\nAdd-Type @\"\r\n    using System.Net;\r\n    using System.Security.Cryptography.X509Certificates;\r\n    public class TrustAllCertsPolicy : ICertificatePolicy {\r\n        public bool CheckValidationResult(\r\n            ServicePoint srvPoint, X509Certificate certificate,\r\n            WebRequest request, int certificateProblem) {\r\n            return true;\r\n        }\r\n    }\r\n\"@\r\n[System.Net.ServicePointManager]::CertificatePolicy = New-Object TrustAllCertsPolicy\r\n\r\n$cred = New-Object System.Management.Automation.PSCredential($KNOX_USER,$KNOX_PASSWORD)\r\nInvoke-WebRequest -Credential $cred -Method Put -Uri \"https://${KNOX_ENDPOINT}/gateway/default/webhdfs/v1/clickstream_data?op=MKDIRS\" \r\n\r\n```\r\n  \r\n2. ファイルをアップロード  \r\n```\r\n$FilePath = \"C:\\Users\\decodeadmin\\Desktop\\Demo\\SampleData\"\r\n1..3 | %{\r\n    Invoke-WebRequest -Credential $cred -Method Put -Uri \"https://${KNOX_ENDPOINT}/gateway/default/webhdfs/v1/clickstream_data/web_clickstream_$(${_}.ToString(\"00\")).csv?op=create&overwrite=true\"  -InFile (Join-Path \"${FilePath}\"  \"web_clickstream_$(${_}.ToString(\"00\")).csv\")\r\n}\r\n```\r\n3. HDFS 階層化の準備\r\n```\r\nmssqlctl login -n mssql-cluster -u $ENV:MGMTPROXY_LOGIN\r\n\r\nmssqlctl cluster storage-pool mount create --remote-uri \"abfs://azureblob@$($ENV:ADLGen2_ACCOUNT).dfs.core.windows.net/\" --mount-path /mounts/azureblob --credential-file \"C:\\Users\\decodeadmin\\Desktop\\Demo\\00.Setup\\01.環境構築\\files.creds\"\r\n\r\n# パーミッションの調整\r\nkubectl exec -n mssql-cluster -it master-0 -c hadoop /bin/bash\r\nhdfs dfs -ls -r /mounts/azureblob\r\nhdfs dfs -chmod -R o+rx /mounts/azureblob\r\nexit\r\n\r\nmssqlctl cluster storage-pool mount create --remote-uri \"s3a://$($ENV:S3_ACCOUNT)/\" --mount-path /mounts/aws --credential-file \"C:\\Users\\decodeadmin\\Desktop\\Demo\\00.Setup\\01.環境構築\\s3files.creds\"\r\n\r\nmssqlctl cluster storage-pool mount status\r\n```\r\n",
            "metadata": {}
        },
        {
            "cell_type": "markdown",
            "source": "## 3. Storage Pool の外部データソースの作成  \r\nhttps://docs.microsoft.com/en-us/sql/relational-databases/polybase/data-virtualization-csv?view=sqlallproducts-allversions",
            "metadata": {}
        },
        {
            "cell_type": "code",
            "source": "USE [model];\r\n\r\nIF NOT EXISTS(SELECT * FROM sys.external_data_sources WHERE name = 'SqlStoragePool')\r\nBEGIN\r\n    CREATE EXTERNAL DATA SOURCE SqlStoragePool\r\n    WITH (LOCATION = 'sqlhdfs://controller-svc:8080/default');\r\nEND\r\nGO",
            "metadata": {},
            "outputs": [
                {
                    "output_type": "display_data",
                    "data": {
                        "text/html": "Commands completed successfully."
                    },
                    "metadata": {}
                },
                {
                    "output_type": "display_data",
                    "data": {
                        "text/html": "Total execution time: 00:00:00.7454254"
                    },
                    "metadata": {}
                }
            ],
            "execution_count": 1
        },
        {
            "cell_type": "markdown",
            "source": "## 4. SQL Data Pool の外部データソースの作成  \r\nhttps://docs.microsoft.com/en-us/sql/big-data-cluster/tutorial-data-pool-ingest-sql?view=sqlallproducts-allversions",
            "metadata": {}
        },
        {
            "cell_type": "code",
            "source": "USE [model];\r\n\r\nIF NOT EXISTS(SELECT * FROM sys.external_data_sources WHERE name = 'SqlDataPool')\r\nBEGIN\r\n    CREATE EXTERNAL DATA SOURCE SqlDataPool\r\n    WITH (LOCATION = 'sqldatapool://controller-svc:8080/datapools/default');\r\nEND\r\nGO",
            "metadata": {},
            "outputs": [
                {
                    "output_type": "display_data",
                    "data": {
                        "text/html": "Commands completed successfully."
                    },
                    "metadata": {}
                },
                {
                    "output_type": "display_data",
                    "data": {
                        "text/html": "Total execution time: 00:00:00.0155283"
                    },
                    "metadata": {}
                }
            ],
            "execution_count": 2
        },
        {
            "cell_type": "markdown",
            "source": "## 5. デモ用データベースの作成\r\nデータベースの作成と、作成したデータベースに外部データソース作成のためのマスターキーの作成",
            "metadata": {}
        },
        {
            "cell_type": "code",
            "source": "USE [master];\r\n\r\n-- データ仮想化用 DB\r\nDROP DATABASE IF EXISTS [DataVirtualization];\r\nGO\r\nCREATE DATABASE [DataVirtualization];\r\nGO\r\nUSE [DataVirtualization];\r\nCREATE MASTER KEY ENCRYPTION BY PASSWORD = '23987hxJ#KL95234nl0zBe'; \r\nGO\r\n\r\n-- StoragePool 用 DB\r\nDROP DATABASE IF EXISTS [StoragePool];\r\nGO\r\nCREATE DATABASE [StoragePool];\r\nGO\r\nUSE [StoragePool];\r\nCREATE MASTER KEY ENCRYPTION BY PASSWORD = '23987hxJ#KL95234nl0zBe'; \r\nGO\r\n\r\n-- Data Pool 用 DB\r\nDROP DATABASE IF EXISTS [DataPool];\r\nGO\r\nCREATE DATABASE [DataPool];\r\nGO\r\nUSE [DataPool];\r\nCREATE MASTER KEY ENCRYPTION BY PASSWORD = '23987hxJ#KL95234nl0zBe'; \r\nGO\r\n-- ML Service 用 DB\r\nDROP DATABASE IF EXISTS [MLService];\r\nGO\r\nCREATE DATABASE [MLService]\r\nGO",
            "metadata": {},
            "outputs": [
                {
                    "output_type": "display_data",
                    "data": {
                        "text/html": "Commands completed successfully."
                    },
                    "metadata": {}
                },
                {
                    "output_type": "display_data",
                    "data": {
                        "text/html": "Total execution time: 00:00:00.7123356"
                    },
                    "metadata": {}
                },
                {
                    "output_type": "display_data",
                    "data": {
                        "text/html": "Commands completed successfully."
                    },
                    "metadata": {}
                },
                {
                    "output_type": "display_data",
                    "data": {
                        "text/html": "Total execution time: 00:00:01.3686776"
                    },
                    "metadata": {}
                },
                {
                    "output_type": "display_data",
                    "data": {
                        "text/html": "Commands completed successfully."
                    },
                    "metadata": {}
                },
                {
                    "output_type": "display_data",
                    "data": {
                        "text/html": "Total execution time: 00:00:00.0420420"
                    },
                    "metadata": {}
                },
                {
                    "output_type": "display_data",
                    "data": {
                        "text/html": "Commands completed successfully."
                    },
                    "metadata": {}
                },
                {
                    "output_type": "display_data",
                    "data": {
                        "text/html": "Total execution time: 00:00:00.6084989"
                    },
                    "metadata": {}
                },
                {
                    "output_type": "display_data",
                    "data": {
                        "text/html": "Commands completed successfully."
                    },
                    "metadata": {}
                },
                {
                    "output_type": "display_data",
                    "data": {
                        "text/html": "Total execution time: 00:00:01.2430917"
                    },
                    "metadata": {}
                },
                {
                    "output_type": "display_data",
                    "data": {
                        "text/html": "Commands completed successfully."
                    },
                    "metadata": {}
                },
                {
                    "output_type": "display_data",
                    "data": {
                        "text/html": "Total execution time: 00:00:00.0383104"
                    },
                    "metadata": {}
                },
                {
                    "output_type": "display_data",
                    "data": {
                        "text/html": "Commands completed successfully."
                    },
                    "metadata": {}
                },
                {
                    "output_type": "display_data",
                    "data": {
                        "text/html": "Total execution time: 00:00:00.6037685"
                    },
                    "metadata": {}
                },
                {
                    "output_type": "display_data",
                    "data": {
                        "text/html": "Commands completed successfully."
                    },
                    "metadata": {}
                },
                {
                    "output_type": "display_data",
                    "data": {
                        "text/html": "Total execution time: 00:00:01.3704608"
                    },
                    "metadata": {}
                },
                {
                    "output_type": "display_data",
                    "data": {
                        "text/html": "Commands completed successfully."
                    },
                    "metadata": {}
                },
                {
                    "output_type": "display_data",
                    "data": {
                        "text/html": "Total execution time: 00:00:00.0380932"
                    },
                    "metadata": {}
                },
                {
                    "output_type": "display_data",
                    "data": {
                        "text/html": "Commands completed successfully."
                    },
                    "metadata": {}
                },
                {
                    "output_type": "display_data",
                    "data": {
                        "text/html": "Total execution time: 00:00:00.5980724"
                    },
                    "metadata": {}
                },
                {
                    "output_type": "display_data",
                    "data": {
                        "text/html": "Commands completed successfully."
                    },
                    "metadata": {}
                },
                {
                    "output_type": "display_data",
                    "data": {
                        "text/html": "Total execution time: 00:00:01.2478622"
                    },
                    "metadata": {}
                }
            ],
            "execution_count": 3
        },
        {
            "cell_type": "markdown",
            "source": "## 6. リンクサーバーの作成",
            "metadata": {}
        },
        {
            "cell_type": "code",
            "source": "USE [master];\r\n\r\nEXEC master.dbo.sp_addlinkedserver @server = N'DATA-0-0.DATA-0-SVC.MSSQL-CLUSTER.SVC.CLUSTER.LOCAL', @srvproduct=N'SQL Server'\r\nEXEC master.dbo.sp_addlinkedsrvlogin @rmtsrvname=N'DATA-0-0.DATA-0-SVC.MSSQL-CLUSTER.SVC.CLUSTER.LOCAL',@useself=N'True',@locallogin=NULL,@rmtuser=NULL,@rmtpassword=NULL\r\nGO\r\n\r\nEXEC master.dbo.sp_addlinkedserver @server = N'DATA-0-1.DATA-0-SVC.MSSQL-CLUSTER.SVC.CLUSTER.LOCAL', @srvproduct=N'SQL Server'\r\nEXEC master.dbo.sp_addlinkedsrvlogin @rmtsrvname=N'DATA-0-1.DATA-0-SVC.MSSQL-CLUSTER.SVC.CLUSTER.LOCAL',@useself=N'True',@locallogin=NULL,@rmtuser=NULL,@rmtpassword=NULL\r\nGO",
            "metadata": {},
            "outputs": [
                {
                    "output_type": "display_data",
                    "data": {
                        "text/html": "Commands completed successfully."
                    },
                    "metadata": {}
                },
                {
                    "output_type": "display_data",
                    "data": {
                        "text/html": "Total execution time: 00:00:00.1008760"
                    },
                    "metadata": {}
                },
                {
                    "output_type": "display_data",
                    "data": {
                        "text/html": "Commands completed successfully."
                    },
                    "metadata": {}
                },
                {
                    "output_type": "display_data",
                    "data": {
                        "text/html": "Total execution time: 00:00:00.0293130"
                    },
                    "metadata": {}
                }
            ],
            "execution_count": 4
        },
        {
            "cell_type": "code",
            "source": "SELECT * FROM [DATA-0-0.DATA-0-SVC.MSSQL-CLUSTER.SVC.CLUSTER.LOCAL].master.sys.servers\r\nSELECT * FROM [DATA-0-1.DATA-0-SVC.MSSQL-CLUSTER.SVC.CLUSTER.LOCAL].master.sys.servers",
            "metadata": {},
            "outputs": [
                {
                    "output_type": "display_data",
                    "data": {
                        "text/html": "(1 row affected)"
                    },
                    "metadata": {}
                },
                {
                    "output_type": "display_data",
                    "data": {
                        "text/html": "(1 row affected)"
                    },
                    "metadata": {}
                },
                {
                    "output_type": "display_data",
                    "data": {
                        "text/html": "Total execution time: 00:00:01.4824897"
                    },
                    "metadata": {}
                },
                {
                    "output_type": "execute_result",
                    "execution_count": 5,
                    "data": {
                        "application/vnd.dataresource+json": {
                            "schema": {
                                "fields": [
                                    {
                                        "name": "server_id"
                                    },
                                    {
                                        "name": "name"
                                    },
                                    {
                                        "name": "product"
                                    },
                                    {
                                        "name": "provider"
                                    },
                                    {
                                        "name": "data_source"
                                    },
                                    {
                                        "name": "location"
                                    },
                                    {
                                        "name": "provider_string"
                                    },
                                    {
                                        "name": "catalog"
                                    },
                                    {
                                        "name": "connect_timeout"
                                    },
                                    {
                                        "name": "query_timeout"
                                    },
                                    {
                                        "name": "is_linked"
                                    },
                                    {
                                        "name": "is_remote_login_enabled"
                                    },
                                    {
                                        "name": "is_rpc_out_enabled"
                                    },
                                    {
                                        "name": "is_data_access_enabled"
                                    },
                                    {
                                        "name": "is_collation_compatible"
                                    },
                                    {
                                        "name": "uses_remote_collation"
                                    },
                                    {
                                        "name": "collation_name"
                                    },
                                    {
                                        "name": "lazy_schema_validation"
                                    },
                                    {
                                        "name": "is_system"
                                    },
                                    {
                                        "name": "is_publisher"
                                    },
                                    {
                                        "name": "is_subscriber"
                                    },
                                    {
                                        "name": "is_distributor"
                                    },
                                    {
                                        "name": "is_nonsql_subscriber"
                                    },
                                    {
                                        "name": "is_remote_proc_transaction_promotion_enabled"
                                    },
                                    {
                                        "name": "modify_date"
                                    },
                                    {
                                        "name": "is_rda_server"
                                    }
                                ]
                            },
                            "data": [
                                {
                                    "0": "0",
                                    "1": "data-0-0",
                                    "2": "SQL Server",
                                    "3": "SQLNCLI",
                                    "4": "data-0-0",
                                    "5": "NULL",
                                    "6": "NULL",
                                    "7": "NULL",
                                    "8": "0",
                                    "9": "0",
                                    "10": "0",
                                    "11": "1",
                                    "12": "1",
                                    "13": "0",
                                    "14": "0",
                                    "15": "1",
                                    "16": "NULL",
                                    "17": "0",
                                    "18": "0",
                                    "19": "0",
                                    "20": "0",
                                    "21": "0",
                                    "22": "0",
                                    "23": "0",
                                    "24": "2019-05-22 12:19:40.697",
                                    "25": "0"
                                }
                            ]
                        },
                        "text/html": "<table><tr><th>server_id</th><th>name</th><th>product</th><th>provider</th><th>data_source</th><th>location</th><th>provider_string</th><th>catalog</th><th>connect_timeout</th><th>query_timeout</th><th>is_linked</th><th>is_remote_login_enabled</th><th>is_rpc_out_enabled</th><th>is_data_access_enabled</th><th>is_collation_compatible</th><th>uses_remote_collation</th><th>collation_name</th><th>lazy_schema_validation</th><th>is_system</th><th>is_publisher</th><th>is_subscriber</th><th>is_distributor</th><th>is_nonsql_subscriber</th><th>is_remote_proc_transaction_promotion_enabled</th><th>modify_date</th><th>is_rda_server</th></tr><tr><td>0</td><td>data-0-0</td><td>SQL Server</td><td>SQLNCLI</td><td>data-0-0</td><td>NULL</td><td>NULL</td><td>NULL</td><td>0</td><td>0</td><td>0</td><td>1</td><td>1</td><td>0</td><td>0</td><td>1</td><td>NULL</td><td>0</td><td>0</td><td>0</td><td>0</td><td>0</td><td>0</td><td>0</td><td>2019-05-22 12:19:40.697</td><td>0</td></tr></table>"
                    },
                    "metadata": {}
                },
                {
                    "output_type": "execute_result",
                    "execution_count": 5,
                    "data": {
                        "application/vnd.dataresource+json": {
                            "schema": {
                                "fields": [
                                    {
                                        "name": "server_id"
                                    },
                                    {
                                        "name": "name"
                                    },
                                    {
                                        "name": "product"
                                    },
                                    {
                                        "name": "provider"
                                    },
                                    {
                                        "name": "data_source"
                                    },
                                    {
                                        "name": "location"
                                    },
                                    {
                                        "name": "provider_string"
                                    },
                                    {
                                        "name": "catalog"
                                    },
                                    {
                                        "name": "connect_timeout"
                                    },
                                    {
                                        "name": "query_timeout"
                                    },
                                    {
                                        "name": "is_linked"
                                    },
                                    {
                                        "name": "is_remote_login_enabled"
                                    },
                                    {
                                        "name": "is_rpc_out_enabled"
                                    },
                                    {
                                        "name": "is_data_access_enabled"
                                    },
                                    {
                                        "name": "is_collation_compatible"
                                    },
                                    {
                                        "name": "uses_remote_collation"
                                    },
                                    {
                                        "name": "collation_name"
                                    },
                                    {
                                        "name": "lazy_schema_validation"
                                    },
                                    {
                                        "name": "is_system"
                                    },
                                    {
                                        "name": "is_publisher"
                                    },
                                    {
                                        "name": "is_subscriber"
                                    },
                                    {
                                        "name": "is_distributor"
                                    },
                                    {
                                        "name": "is_nonsql_subscriber"
                                    },
                                    {
                                        "name": "is_remote_proc_transaction_promotion_enabled"
                                    },
                                    {
                                        "name": "modify_date"
                                    },
                                    {
                                        "name": "is_rda_server"
                                    }
                                ]
                            },
                            "data": [
                                {
                                    "0": "0",
                                    "1": "data-0-1",
                                    "2": "SQL Server",
                                    "3": "SQLNCLI",
                                    "4": "data-0-1",
                                    "5": "NULL",
                                    "6": "NULL",
                                    "7": "NULL",
                                    "8": "0",
                                    "9": "0",
                                    "10": "0",
                                    "11": "1",
                                    "12": "1",
                                    "13": "0",
                                    "14": "0",
                                    "15": "1",
                                    "16": "NULL",
                                    "17": "0",
                                    "18": "0",
                                    "19": "0",
                                    "20": "0",
                                    "21": "0",
                                    "22": "0",
                                    "23": "0",
                                    "24": "2019-05-22 12:19:39.737",
                                    "25": "0"
                                }
                            ]
                        },
                        "text/html": "<table><tr><th>server_id</th><th>name</th><th>product</th><th>provider</th><th>data_source</th><th>location</th><th>provider_string</th><th>catalog</th><th>connect_timeout</th><th>query_timeout</th><th>is_linked</th><th>is_remote_login_enabled</th><th>is_rpc_out_enabled</th><th>is_data_access_enabled</th><th>is_collation_compatible</th><th>uses_remote_collation</th><th>collation_name</th><th>lazy_schema_validation</th><th>is_system</th><th>is_publisher</th><th>is_subscriber</th><th>is_distributor</th><th>is_nonsql_subscriber</th><th>is_remote_proc_transaction_promotion_enabled</th><th>modify_date</th><th>is_rda_server</th></tr><tr><td>0</td><td>data-0-1</td><td>SQL Server</td><td>SQLNCLI</td><td>data-0-1</td><td>NULL</td><td>NULL</td><td>NULL</td><td>0</td><td>0</td><td>0</td><td>1</td><td>1</td><td>0</td><td>0</td><td>1</td><td>NULL</td><td>0</td><td>0</td><td>0</td><td>0</td><td>0</td><td>0</td><td>0</td><td>2019-05-22 12:19:39.737</td><td>0</td></tr></table>"
                    },
                    "metadata": {}
                }
            ],
            "execution_count": 5
        }
    ]
}