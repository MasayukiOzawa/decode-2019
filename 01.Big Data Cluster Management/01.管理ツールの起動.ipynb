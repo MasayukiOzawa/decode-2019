{
    "metadata": {
        "kernelspec": {
            "name": "SQL",
            "display_name": "SQL",
            "language": "sql"
        },
        "language_info": {
            "name": "sql",
            "version": ""
        }
    },
    "nbformat_minor": 2,
    "nbformat": 4,
    "cells": [
        {
            "cell_type": "markdown",
            "source": "# 1. Kubernetes ダッシュボードの表示\r\n```\r\naz login --service-principal -u $ENV:AZ_USER  -p $ENV:AZ_PASSWORD --tenant $ENV:AZ_TENANT\r\naz account set --subscription $ENV:AZ_SUBSCRIPTION\r\n\r\naz aks browse --resource-group decode2019 --name BigDataCluster\r\n```\r\n![k8s Dashboard](https://github.com/MasayukiOzawa/decode-2019-demo/raw/master/Images/01.Big%20Data%20Cluster%20Management/k8s%20Dashboard.png)",
            "metadata": {}
        },
        {
            "cell_type": "markdown",
            "source": "# 2. Big Data Cluster ポータルの表示\r\n```\r\n# Portal Endpoint\r\n$temp = (kubectl get services --namespace mssql-cluster | Select-String \"30777\") -split \" \"\r\n$ret = @()\r\nforeach($local:v in $temp){\r\n    if ($v -ne \"\"){\r\n        $ret += $v\r\n    }\r\n}\r\n\r\n& \"${ENV:ProgramFiles(x86)}\\Google\\Chrome\\Application\\chrome.exe\" $(\"https://{0}:30777/portal\" -f $ret[3])\r\n```\r\n![Cluster Admin Portal](https://raw.githubusercontent.com/MasayukiOzawa/decode-2019-demo/master/Images/01.Big%20Data%20Cluster%20Management/Cluster%20Admin%20Portal.png)",
            "metadata": {}
        }
    ]
}