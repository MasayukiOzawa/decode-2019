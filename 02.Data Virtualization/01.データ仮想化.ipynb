{
    "metadata": {
        "kernelspec": {
            "name": "SQL",
            "display_name": "SQL",
            "language": "sql"
        },
        "language_info": {
            "name": "sql",
            "version": ""
        }
    },
    "nbformat_minor": 2,
    "nbformat": 4,
    "cells": [
        {
            "cell_type": "markdown",
            "source": "# データ仮想化\r\n\r\nPolyBase を使用したデータ仮想化によるデータ取得\r\n\r\n本デモでは、例として次の 2 種類の外部データソースにアクセスにアクセスし、組み合わせて利用\r\n- Azure SQL Database\r\n- CosmosDB (Mongo API)",
            "metadata": {}
        },
        {
            "cell_type": "markdown",
            "source": "## 1. SQL Database へのアクセス  ",
            "metadata": {}
        },
        {
            "cell_type": "code",
            "source": "USE [DataVirtualization];\r\n\r\n-- オブジェクトの初期化\r\nIF EXISTS (SELECT * FROM sys.external_tables WHERE name = 'AzureSQLDB')\r\nBEGIN\r\n\tDROP EXTERNAL TABLE AzureSQLDB\r\nEND;\r\nIF EXISTS (SELECT * FROM sys.external_data_sources WHERE name = 'SQLDB')\r\nBEGIN\r\n\tDROP EXTERNAL DATA SOURCE SQLDB\r\nEND;\r\n\r\nIF EXISTS (SELECT * FROM sys.database_scoped_credentials WHERE name = 'SQLDB')\r\nBEGIN\r\n\tDROP DATABASE SCOPED CREDENTIAL SQLDB \r\nEND\r\nGO",
            "metadata": {},
            "outputs": [
                {
                    "output_type": "display_data",
                    "data": {
                        "text/html": "Commands completed successfully."
                    },
                    "metadata": {}
                },
                {
                    "output_type": "display_data",
                    "data": {
                        "text/html": "Total execution time: 00:00:00.0909127"
                    },
                    "metadata": {}
                }
            ],
            "execution_count": 2
        },
        {
            "cell_type": "markdown",
            "source": "**1. 資格情報の作成**\r\n\r\n作成した資格情報を使用して、SQL Database に接続が行われる",
            "metadata": {}
        },
        {
            "cell_type": "code",
            "source": "USE [master];\r\nDECLARE @ID varchar(50), @SECRET varchar(100)\r\nSELECT @ID = ID, @SECRET = SECRET FROM T_ID WHERE TYPE ='SQLDB'\r\n\r\nUSE [DataVirtualization];\r\n\r\nDECLARE @sql varchar(8000)\r\nEXEC xp_sprintf @sql OUTPUT, \r\n    'CREATE DATABASE SCOPED CREDENTIAL [SQLDB] \r\n\t\tWITH IDENTITY = ''%s'', \r\n\t\tSECRET=''%s''', \r\n\t@ID, @SECRET\r\nEXEC (@sql)\r\nGO",
            "metadata": {},
            "outputs": [
                {
                    "output_type": "display_data",
                    "data": {
                        "text/html": "Commands completed successfully."
                    },
                    "metadata": {}
                },
                {
                    "output_type": "display_data",
                    "data": {
                        "text/html": "Total execution time: 00:00:00.0180245"
                    },
                    "metadata": {}
                }
            ],
            "execution_count": 6
        },
        {
            "cell_type": "markdown",
            "source": "**2. 外部データソースの作成**\r\n\r\nSQL Server ベースの環境に接続する場合は、「sqlserver://」を指定する",
            "metadata": {}
        },
        {
            "cell_type": "code",
            "source": "USE [DataVirtualization];\r\n\r\n-- 従来までの PolyBase と異なり BLOB / HDFS 以外を外部データソースとして登録可能\r\nCREATE EXTERNAL DATA SOURCE [SQLDB]\r\nWITH (\r\n\t\tLOCATION= 'sqlserver://<Server Name>.database.windows.net', \r\n\t\tCREDENTIAL = [SQLDB]\r\n)\r\nGO",
            "metadata": {},
            "outputs": [
                {
                    "output_type": "display_data",
                    "data": {
                        "text/html": "Commands completed successfully."
                    },
                    "metadata": {}
                },
                {
                    "output_type": "display_data",
                    "data": {
                        "text/html": "Total execution time: 00:00:00.2708563"
                    },
                    "metadata": {}
                }
            ],
            "execution_count": 7
        },
        {
            "cell_type": "markdown",
            "source": "**3. 外部テーブルの作成**\r\n\r\n作成した外部データソースを使用して、外部テーブルを作成  \r\nBDC のデータ仮想化は、外部テーブルにより、SQL Server 外のデータにアクセスを行う",
            "metadata": {}
        },
        {
            "cell_type": "code",
            "source": "USE [DataVirtualization];\r\n\r\n-- SQL DB を外部テーブルとして追加 (tpch の NATION を SQL DB に作成済み) \r\nCREATE EXTERNAL TABLE [AzureSQLDB]\r\n( \r\n\t[N_NATIONKEY] [int] NOT NULL,\r\n\t[N_NAME] [char](25) COLLATE SQL_Latin1_General_CP1_CI_AS NOT NULL,\r\n\t[N_REGIONKEY] [int] NOT NULL,\r\n\t[N_COMMENT] [varchar](152) COLLATE SQL_Latin1_General_CP1_CI_AS NULL\r\n) \r\nWITH\r\n( \r\n    LOCATION = 'tpch.dbo.NATION', \r\n    DATA_SOURCE = [SQLDB]\r\n)\r\nGO",
            "metadata": {},
            "outputs": [
                {
                    "output_type": "display_data",
                    "data": {
                        "text/html": "Commands completed successfully."
                    },
                    "metadata": {}
                },
                {
                    "output_type": "display_data",
                    "data": {
                        "text/html": "Total execution time: 00:00:00.3648708"
                    },
                    "metadata": {}
                }
            ],
            "execution_count": 8
        },
        {
            "cell_type": "markdown",
            "source": "![SQLDB External Table](https://github.com/MasayukiOzawa/decode-2019-demo/raw/master/Images/02.Data%20Virtualization/SQLDB%20External%20Table.png)",
            "metadata": {}
        },
        {
            "cell_type": "markdown",
            "source": "**4. 外部テーブル経由でリモートデータを参照**\r\n\r\nT-SQL により、リモートの SQL Server (SQL DB) のデータにアクセス  \r\nローカルのテーブルを参照しているが、実際のデータはリモートに格納されている\r\n",
            "metadata": {}
        },
        {
            "cell_type": "code",
            "source": "USE [DataVirtualization];\r\n\r\n-- Big Data Cluster をデータハブとして使用し、SQL DB のデータを検索\r\nSELECT * FROM [AzureSQLDB]",
            "metadata": {},
            "outputs": [
                {
                    "output_type": "display_data",
                    "data": {
                        "text/html": "(25 rows affected)"
                    },
                    "metadata": {}
                },
                {
                    "output_type": "display_data",
                    "data": {
                        "text/html": "Total execution time: 00:00:04.3754758"
                    },
                    "metadata": {}
                },
                {
                    "output_type": "execute_result",
                    "execution_count": 9,
                    "data": {
                        "application/vnd.dataresource+json": {
                            "schema": {
                                "fields": [
                                    {
                                        "name": "N_NATIONKEY"
                                    },
                                    {
                                        "name": "N_NAME"
                                    },
                                    {
                                        "name": "N_REGIONKEY"
                                    },
                                    {
                                        "name": "N_COMMENT"
                                    }
                                ]
                            },
                            "data": [
                                {
                                    "0": "0",
                                    "1": "ALGERIA                  ",
                                    "2": "0",
                                    "3": " haggle. carefully final deposits detect slyly agai\r"
                                },
                                {
                                    "0": "1",
                                    "1": "ARGENTINA                ",
                                    "2": "1",
                                    "3": "al foxes promise slyly according to the regular accounts. bold requests alon\r"
                                },
                                {
                                    "0": "2",
                                    "1": "BRAZIL                   ",
                                    "2": "1",
                                    "3": "y alongside of the pending deposits. carefully special packages are about the ironic forges. slyly special \r"
                                },
                                {
                                    "0": "3",
                                    "1": "CANADA                   ",
                                    "2": "1",
                                    "3": "eas hang ironic, silent packages. slyly regular packages are furiously over the tithes. fluffily bold\r"
                                },
                                {
                                    "0": "4",
                                    "1": "EGYPT                    ",
                                    "2": "4",
                                    "3": "y above the carefully unusual theodolites. final dugouts are quickly across the furiously regular d\r"
                                },
                                {
                                    "0": "5",
                                    "1": "ETHIOPIA                 ",
                                    "2": "0",
                                    "3": "ven packages wake quickly. regu\r"
                                },
                                {
                                    "0": "6",
                                    "1": "FRANCE                   ",
                                    "2": "3",
                                    "3": "refully final requests. regular, ironi\r"
                                },
                                {
                                    "0": "7",
                                    "1": "GERMANY                  ",
                                    "2": "3",
                                    "3": "l platelets. regular accounts x-ray: unusual, regular acco\r"
                                },
                                {
                                    "0": "8",
                                    "1": "INDIA                    ",
                                    "2": "2",
                                    "3": "ss excuses cajole slyly across the packages. deposits print aroun\r"
                                },
                                {
                                    "0": "9",
                                    "1": "INDONESIA                ",
                                    "2": "2",
                                    "3": " slyly express asymptotes. regular deposits haggle slyly. carefully ironic hockey players sleep blithely. carefull\r"
                                },
                                {
                                    "0": "10",
                                    "1": "IRAN                     ",
                                    "2": "4",
                                    "3": "efully alongside of the slyly final dependencies. \r"
                                },
                                {
                                    "0": "11",
                                    "1": "IRAQ                     ",
                                    "2": "4",
                                    "3": "nic deposits boost atop the quickly final requests? quickly regula\r"
                                },
                                {
                                    "0": "12",
                                    "1": "JAPAN                    ",
                                    "2": "2",
                                    "3": "ously. final, express gifts cajole a\r"
                                },
                                {
                                    "0": "13",
                                    "1": "JORDAN                   ",
                                    "2": "4",
                                    "3": "ic deposits are blithely about the carefully regular pa\r"
                                },
                                {
                                    "0": "14",
                                    "1": "KENYA                    ",
                                    "2": "0",
                                    "3": " pending excuses haggle furiously deposits. pending, express pinto beans wake fluffily past t\r"
                                },
                                {
                                    "0": "15",
                                    "1": "MOROCCO                  ",
                                    "2": "0",
                                    "3": "rns. blithely bold courts among the closely regular packages use furiously bold platelets?\r"
                                },
                                {
                                    "0": "16",
                                    "1": "MOZAMBIQUE               ",
                                    "2": "0",
                                    "3": "s. ironic, unusual asymptotes wake blithely r\r"
                                },
                                {
                                    "0": "17",
                                    "1": "PERU                     ",
                                    "2": "1",
                                    "3": "platelets. blithely pending dependencies use fluffily across the even pinto beans. carefully silent accoun\r"
                                },
                                {
                                    "0": "18",
                                    "1": "CHINA                    ",
                                    "2": "2",
                                    "3": "c dependencies. furiously express notornis sleep slyly regular accounts. ideas sleep. depos\r"
                                },
                                {
                                    "0": "19",
                                    "1": "ROMANIA                  ",
                                    "2": "3",
                                    "3": "ular asymptotes are about the furious multipliers. express dependencies nag above the ironically ironic account\r"
                                },
                                {
                                    "0": "20",
                                    "1": "SAUDI ARABIA             ",
                                    "2": "4",
                                    "3": "ts. silent requests haggle. closely express packages sleep across the blithely\r"
                                },
                                {
                                    "0": "21",
                                    "1": "VIETNAM                  ",
                                    "2": "2",
                                    "3": "hely enticingly express accounts. even, final \r"
                                },
                                {
                                    "0": "22",
                                    "1": "RUSSIA                   ",
                                    "2": "3",
                                    "3": " requests against the platelets use never according to the quickly regular pint\r"
                                },
                                {
                                    "0": "23",
                                    "1": "UNITED KINGDOM           ",
                                    "2": "3",
                                    "3": "eans boost carefully special requests. accounts are. carefull\r"
                                },
                                {
                                    "0": "24",
                                    "1": "UNITED STATES            ",
                                    "2": "1",
                                    "3": "y final packages. slow foxes cajole quickly. quickly silent platelets breach ironic accounts. unusual pinto be\r"
                                }
                            ]
                        },
                        "text/html": "<table><tr><th>N_NATIONKEY</th><th>N_NAME</th><th>N_REGIONKEY</th><th>N_COMMENT</th></tr><tr><td>0</td><td>ALGERIA                  </td><td>0</td><td> haggle. carefully final deposits detect slyly agai\r</td></tr><tr><td>1</td><td>ARGENTINA                </td><td>1</td><td>al foxes promise slyly according to the regular accounts. bold requests alon\r</td></tr><tr><td>2</td><td>BRAZIL                   </td><td>1</td><td>y alongside of the pending deposits. carefully special packages are about the ironic forges. slyly special \r</td></tr><tr><td>3</td><td>CANADA                   </td><td>1</td><td>eas hang ironic, silent packages. slyly regular packages are furiously over the tithes. fluffily bold\r</td></tr><tr><td>4</td><td>EGYPT                    </td><td>4</td><td>y above the carefully unusual theodolites. final dugouts are quickly across the furiously regular d\r</td></tr><tr><td>5</td><td>ETHIOPIA                 </td><td>0</td><td>ven packages wake quickly. regu\r</td></tr><tr><td>6</td><td>FRANCE                   </td><td>3</td><td>refully final requests. regular, ironi\r</td></tr><tr><td>7</td><td>GERMANY                  </td><td>3</td><td>l platelets. regular accounts x-ray: unusual, regular acco\r</td></tr><tr><td>8</td><td>INDIA                    </td><td>2</td><td>ss excuses cajole slyly across the packages. deposits print aroun\r</td></tr><tr><td>9</td><td>INDONESIA                </td><td>2</td><td> slyly express asymptotes. regular deposits haggle slyly. carefully ironic hockey players sleep blithely. carefull\r</td></tr><tr><td>10</td><td>IRAN                     </td><td>4</td><td>efully alongside of the slyly final dependencies. \r</td></tr><tr><td>11</td><td>IRAQ                     </td><td>4</td><td>nic deposits boost atop the quickly final requests? quickly regula\r</td></tr><tr><td>12</td><td>JAPAN                    </td><td>2</td><td>ously. final, express gifts cajole a\r</td></tr><tr><td>13</td><td>JORDAN                   </td><td>4</td><td>ic deposits are blithely about the carefully regular pa\r</td></tr><tr><td>14</td><td>KENYA                    </td><td>0</td><td> pending excuses haggle furiously deposits. pending, express pinto beans wake fluffily past t\r</td></tr><tr><td>15</td><td>MOROCCO                  </td><td>0</td><td>rns. blithely bold courts among the closely regular packages use furiously bold platelets?\r</td></tr><tr><td>16</td><td>MOZAMBIQUE               </td><td>0</td><td>s. ironic, unusual asymptotes wake blithely r\r</td></tr><tr><td>17</td><td>PERU                     </td><td>1</td><td>platelets. blithely pending dependencies use fluffily across the even pinto beans. carefully silent accoun\r</td></tr><tr><td>18</td><td>CHINA                    </td><td>2</td><td>c dependencies. furiously express notornis sleep slyly regular accounts. ideas sleep. depos\r</td></tr><tr><td>19</td><td>ROMANIA                  </td><td>3</td><td>ular asymptotes are about the furious multipliers. express dependencies nag above the ironically ironic account\r</td></tr><tr><td>20</td><td>SAUDI ARABIA             </td><td>4</td><td>ts. silent requests haggle. closely express packages sleep across the blithely\r</td></tr><tr><td>21</td><td>VIETNAM                  </td><td>2</td><td>hely enticingly express accounts. even, final \r</td></tr><tr><td>22</td><td>RUSSIA                   </td><td>3</td><td> requests against the platelets use never according to the quickly regular pint\r</td></tr><tr><td>23</td><td>UNITED KINGDOM           </td><td>3</td><td>eans boost carefully special requests. accounts are. carefull\r</td></tr><tr><td>24</td><td>UNITED STATES            </td><td>1</td><td>y final packages. slow foxes cajole quickly. quickly silent platelets breach ironic accounts. unusual pinto be\r</td></tr></table>"
                    },
                    "metadata": {}
                }
            ],
            "execution_count": 9
        },
        {
            "cell_type": "markdown",
            "source": "![Remote Query Plan](https://github.com/MasayukiOzawa/decode-2019-demo/raw/master/Images/02.Data%20Virtualization/SQLDB%20Remote%20Query.png)",
            "metadata": {}
        },
        {
            "cell_type": "markdown",
            "source": "## 2. MongoDB へのアクセス  ",
            "metadata": {}
        },
        {
            "cell_type": "code",
            "source": "USE [DataVirtualization];\r\n\r\n-- オブジェクトの初期化\r\nIF EXISTS (SELECT * FROM sys.external_tables WHERE name = 'MongoDB_REGION')\r\nBEGIN\r\n\tDROP EXTERNAL TABLE MongoDB_REGION\r\nEND;\r\nIF EXISTS (SELECT * FROM sys.external_data_sources WHERE name = 'MongoDBInstance')\r\nBEGIN\r\n\tDROP EXTERNAL DATA SOURCE MongoDBInstance\r\nEND;\r\n\r\nIF EXISTS (SELECT * FROM sys.database_scoped_credentials WHERE name = 'MongoDBCredentials')\r\nBEGIN\r\n\tDROP DATABASE SCOPED CREDENTIAL MongoDBCredentials \r\nEND\r\nGO",
            "metadata": {},
            "outputs": [
                {
                    "output_type": "display_data",
                    "data": {
                        "text/html": "Commands completed successfully."
                    },
                    "metadata": {}
                },
                {
                    "output_type": "display_data",
                    "data": {
                        "text/html": "Total execution time: 00:00:00.0044512"
                    },
                    "metadata": {}
                }
            ],
            "execution_count": 2
        },
        {
            "cell_type": "markdown",
            "source": "**1. 資格情報の作成**\r\n\r\n作成した資格情報を使用して、MongoDB (今回は CosmosDB の Mongo API) に接続が行われる",
            "metadata": {}
        },
        {
            "cell_type": "code",
            "source": "USE [master];\r\nDECLARE @ID varchar(50), @SECRET varchar(100)\r\nSELECT @ID = ID, @SECRET = SECRET FROM T_ID WHERE TYPE ='MongoDB'\r\n\r\nUSE [DataVirtualization];\r\n\r\nDECLARE @sql varchar(8000)\r\nEXEC xp_sprintf @sql OUTPUT, \r\n    'CREATE DATABASE SCOPED CREDENTIAL [MongoDBCredentials] \r\n\t\tWITH IDENTITY = ''%s'', \r\n\t\tSECRET=''%s''', \r\n\t@ID, @SECRET\r\nEXEC (@sql)\r\nGO",
            "metadata": {},
            "outputs": [
                {
                    "output_type": "display_data",
                    "data": {
                        "text/html": "Commands completed successfully."
                    },
                    "metadata": {}
                },
                {
                    "output_type": "display_data",
                    "data": {
                        "text/html": "Total execution time: 00:00:00.0172395"
                    },
                    "metadata": {}
                }
            ],
            "execution_count": 3
        },
        {
            "cell_type": "markdown",
            "source": "**2. 外部データソースの作成**\r\n\r\nMongoDB の環境に接続する場合は、「mongdb://」を指定する",
            "metadata": {}
        },
        {
            "cell_type": "code",
            "source": "CREATE EXTERNAL DATA SOURCE MongoDBInstance\r\nWITH ( \r\nLOCATION = 'mongodb://<Server Name>.documents.azure.com:10255',\r\nCREDENTIAL = MongoDBCredentials\r\n);\r\nGO",
            "metadata": {},
            "outputs": [
                {
                    "output_type": "display_data",
                    "data": {
                        "text/html": "Commands completed successfully."
                    },
                    "metadata": {}
                },
                {
                    "output_type": "display_data",
                    "data": {
                        "text/html": "Total execution time: 00:00:00.3755269"
                    },
                    "metadata": {}
                }
            ],
            "execution_count": 4
        },
        {
            "cell_type": "markdown",
            "source": "**3. 外部テーブルの作成**\r\n\r\n作成した外部データソースを使用して、外部テーブルを作成 ",
            "metadata": {}
        },
        {
            "cell_type": "code",
            "source": "USE [DataVirtualization];\r\n\r\nCREATE EXTERNAL TABLE MongoDB_REGION\r\n( \r\n\t[_id] NVARCHAR(24) COLLATE Japanese_CI_AS NOT NULL,\r\n\t[R_REGIONKEY] INT, \r\n\t[R_NAME] NVARCHAR(4000) COLLATE Japanese_CI_AS, \r\n\t[R_COMMENT] NVARCHAR(4000) COLLATE Japanese_CI_AS\r\n) \r\nWITH\r\n( \r\n    LOCATION = 'tpch.REGION', \r\n    DATA_SOURCE = MongoDBInstance\r\n);\r\nGO\r\n",
            "metadata": {},
            "outputs": [
                {
                    "output_type": "display_data",
                    "data": {
                        "text/html": "Commands completed successfully."
                    },
                    "metadata": {}
                },
                {
                    "output_type": "display_data",
                    "data": {
                        "text/html": "Total execution time: 00:00:00.6096889"
                    },
                    "metadata": {}
                }
            ],
            "execution_count": 5
        },
        {
            "cell_type": "markdown",
            "source": "**4. 外部テーブル経由でリモートデータを参照**\r\n\r\nT-SQL により、MongoDB のデータにアクセス  \r\n(FORCE SCALEOUTEXECUTION / DISABLE SCALEOUTEXECUTION により、コンピューティングの利用の強制 / 無効化を制御できる)",
            "metadata": {}
        },
        {
            "cell_type": "code",
            "source": "USE [DataVirtualization];\r\nSELECT * FROM MongoDB_REGION\r\nOPTION(FORCE SCALEOUTEXECUTION);",
            "metadata": {},
            "outputs": [
                {
                    "output_type": "display_data",
                    "data": {
                        "text/html": "(5 rows affected)"
                    },
                    "metadata": {}
                },
                {
                    "output_type": "display_data",
                    "data": {
                        "text/html": "Total execution time: 00:00:02.1036110"
                    },
                    "metadata": {}
                },
                {
                    "output_type": "execute_result",
                    "execution_count": 1,
                    "data": {
                        "application/vnd.dataresource+json": {
                            "schema": {
                                "fields": [
                                    {
                                        "name": "_id"
                                    },
                                    {
                                        "name": "R_REGIONKEY"
                                    },
                                    {
                                        "name": "R_NAME"
                                    },
                                    {
                                        "name": "R_COMMENT"
                                    }
                                ]
                            },
                            "data": [
                                {
                                    "0": "5cce8456d59b29463c827f4d",
                                    "1": "0",
                                    "2": "AFRICA                   ",
                                    "3": "lar deposits. blithely final packages cajole. regular waters are final requests. regular accounts are according to \r"
                                },
                                {
                                    "0": "5cce84868f678e0f504c6faa",
                                    "1": "2",
                                    "2": "ASIA                     ",
                                    "3": "ges. thinly even pinto beans ca\r"
                                },
                                {
                                    "0": "5cce84a68f678e0f504c6fac",
                                    "1": "4",
                                    "2": "MIDDLE EAST              ",
                                    "3": "uickly special accounts cajole carefully blithely close requests. carefully final asymptotes haggle furiousl\r"
                                },
                                {
                                    "0": "5cce84758f678e0f504c6fa9",
                                    "1": "1",
                                    "2": "AMERICA                  ",
                                    "3": "hs use ironic, even requests. s\r"
                                },
                                {
                                    "0": "5cce84958f678e0f504c6fab",
                                    "1": "3",
                                    "2": "EUROPE                   ",
                                    "3": "ly final courts cajole furiously final excuse\r"
                                }
                            ]
                        },
                        "text/html": "<table><tr><th>_id</th><th>R_REGIONKEY</th><th>R_NAME</th><th>R_COMMENT</th></tr><tr><td>5cce8456d59b29463c827f4d</td><td>0</td><td>AFRICA                   </td><td>lar deposits. blithely final packages cajole. regular waters are final requests. regular accounts are according to \r</td></tr><tr><td>5cce84868f678e0f504c6faa</td><td>2</td><td>ASIA                     </td><td>ges. thinly even pinto beans ca\r</td></tr><tr><td>5cce84a68f678e0f504c6fac</td><td>4</td><td>MIDDLE EAST              </td><td>uickly special accounts cajole carefully blithely close requests. carefully final asymptotes haggle furiousl\r</td></tr><tr><td>5cce84758f678e0f504c6fa9</td><td>1</td><td>AMERICA                  </td><td>hs use ironic, even requests. s\r</td></tr><tr><td>5cce84958f678e0f504c6fab</td><td>3</td><td>EUROPE                   </td><td>ly final courts cajole furiously final excuse\r</td></tr></table>"
                    },
                    "metadata": {}
                }
            ],
            "execution_count": 1
        },
        {
            "cell_type": "markdown",
            "source": "![MongoDB Data](https://github.com/MasayukiOzawa/decode-2019-demo/raw/master/Images/02.Data%20Virtualization/MongoDB%20Data.png)",
            "metadata": {}
        },
        {
            "cell_type": "markdown",
            "source": "## 3. 複数のデータソースを組み合わせて利用  \r\nデータ仮想化は、各データソースのデータを単一で使うだけではなく、組み合わせて使用することができる。  \r\nSQL DB と MongoDB のデータを組み合わせて利用",
            "metadata": {}
        },
        {
            "cell_type": "code",
            "source": "USE [DataVirtualization];\r\nSELECT \r\n\tM.R_REGIONKEY,\r\n\tM.R_NAME,\r\n\tM.R_COMMENT,\r\n\tA.N_NATIONKEY,\r\n\tA.N_NAME,\r\n\tA.N_COMMENT\r\nFROM\r\n\tMongoDB_REGION AS M\r\n\tLEFT JOIN\r\n\tAzureSQLDB AS A\r\n\tON \r\n\tM.R_REGIONKEY = N_REGIONKEY\r\nWHERE\r\n\tM.R_REGIONKEY = 4\r\nORDER BY\r\n\tM.R_REGIONKEY ASC",
            "metadata": {},
            "outputs": [
                {
                    "output_type": "display_data",
                    "data": {
                        "text/html": "(5 rows affected)"
                    },
                    "metadata": {}
                },
                {
                    "output_type": "display_data",
                    "data": {
                        "text/html": "Total execution time: 00:00:05.3474143"
                    },
                    "metadata": {}
                },
                {
                    "output_type": "execute_result",
                    "execution_count": 2,
                    "data": {
                        "application/vnd.dataresource+json": {
                            "schema": {
                                "fields": [
                                    {
                                        "name": "R_REGIONKEY"
                                    },
                                    {
                                        "name": "R_NAME"
                                    },
                                    {
                                        "name": "R_COMMENT"
                                    },
                                    {
                                        "name": "N_NATIONKEY"
                                    },
                                    {
                                        "name": "N_NAME"
                                    },
                                    {
                                        "name": "N_COMMENT"
                                    }
                                ]
                            },
                            "data": [
                                {
                                    "0": "4",
                                    "1": "MIDDLE EAST              ",
                                    "2": "uickly special accounts cajole carefully blithely close requests. carefully final asymptotes haggle furiousl\r",
                                    "3": "4",
                                    "4": "EGYPT                    ",
                                    "5": "y above the carefully unusual theodolites. final dugouts are quickly across the furiously regular d\r"
                                },
                                {
                                    "0": "4",
                                    "1": "MIDDLE EAST              ",
                                    "2": "uickly special accounts cajole carefully blithely close requests. carefully final asymptotes haggle furiousl\r",
                                    "3": "10",
                                    "4": "IRAN                     ",
                                    "5": "efully alongside of the slyly final dependencies. \r"
                                },
                                {
                                    "0": "4",
                                    "1": "MIDDLE EAST              ",
                                    "2": "uickly special accounts cajole carefully blithely close requests. carefully final asymptotes haggle furiousl\r",
                                    "3": "11",
                                    "4": "IRAQ                     ",
                                    "5": "nic deposits boost atop the quickly final requests? quickly regula\r"
                                },
                                {
                                    "0": "4",
                                    "1": "MIDDLE EAST              ",
                                    "2": "uickly special accounts cajole carefully blithely close requests. carefully final asymptotes haggle furiousl\r",
                                    "3": "13",
                                    "4": "JORDAN                   ",
                                    "5": "ic deposits are blithely about the carefully regular pa\r"
                                },
                                {
                                    "0": "4",
                                    "1": "MIDDLE EAST              ",
                                    "2": "uickly special accounts cajole carefully blithely close requests. carefully final asymptotes haggle furiousl\r",
                                    "3": "20",
                                    "4": "SAUDI ARABIA             ",
                                    "5": "ts. silent requests haggle. closely express packages sleep across the blithely\r"
                                }
                            ]
                        },
                        "text/html": "<table><tr><th>R_REGIONKEY</th><th>R_NAME</th><th>R_COMMENT</th><th>N_NATIONKEY</th><th>N_NAME</th><th>N_COMMENT</th></tr><tr><td>4</td><td>MIDDLE EAST              </td><td>uickly special accounts cajole carefully blithely close requests. carefully final asymptotes haggle furiousl\r</td><td>4</td><td>EGYPT                    </td><td>y above the carefully unusual theodolites. final dugouts are quickly across the furiously regular d\r</td></tr><tr><td>4</td><td>MIDDLE EAST              </td><td>uickly special accounts cajole carefully blithely close requests. carefully final asymptotes haggle furiousl\r</td><td>10</td><td>IRAN                     </td><td>efully alongside of the slyly final dependencies. \r</td></tr><tr><td>4</td><td>MIDDLE EAST              </td><td>uickly special accounts cajole carefully blithely close requests. carefully final asymptotes haggle furiousl\r</td><td>11</td><td>IRAQ                     </td><td>nic deposits boost atop the quickly final requests? quickly regula\r</td></tr><tr><td>4</td><td>MIDDLE EAST              </td><td>uickly special accounts cajole carefully blithely close requests. carefully final asymptotes haggle furiousl\r</td><td>13</td><td>JORDAN                   </td><td>ic deposits are blithely about the carefully regular pa\r</td></tr><tr><td>4</td><td>MIDDLE EAST              </td><td>uickly special accounts cajole carefully blithely close requests. carefully final asymptotes haggle furiousl\r</td><td>20</td><td>SAUDI ARABIA             </td><td>ts. silent requests haggle. closely express packages sleep across the blithely\r</td></tr></table>"
                    },
                    "metadata": {}
                }
            ],
            "execution_count": 2
        },
        {
            "cell_type": "markdown",
            "source": "![Multi Data Access](https://github.com/MasayukiOzawa/decode-2019-demo/raw/master/Images/02.Data%20Virtualization/Multi%20Data%20Source%20Access.png)",
            "metadata": {}
        }
    ]
}